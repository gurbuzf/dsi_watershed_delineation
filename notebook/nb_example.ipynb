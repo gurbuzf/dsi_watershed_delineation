{
 "cells": [
  {
   "attachments": {},
   "cell_type": "markdown",
   "metadata": {},
   "source": [
    "# IMPORT DEPENDENCIES"
   ]
  },
  {
   "cell_type": "code",
   "execution_count": 1,
   "metadata": {},
   "outputs": [],
   "source": [
    "# Add the parent directory of the current script to the system path\n",
    "# to enable importing modules from that directory or its subdirectories.\n",
    "\n",
    "import os\n",
    "import sys\n",
    "\n",
    "module_path = os.path.abspath(os.path.join('..'))\n",
    "\n",
    "if module_path not in sys.path:\n",
    "    sys.path.append(module_path)\n"
   ]
  },
  {
   "cell_type": "code",
   "execution_count": 2,
   "metadata": {},
   "outputs": [],
   "source": [
    "# Import necessary modules and functions\n",
    "import numpy as np\n",
    "import matplotlib.pyplot as plt\n",
    "import rasterio\n",
    "import pandas as pd\n",
    "import geopandas as gpd\n",
    "# Import custom modules and functions\n",
    "from src.processing import read_outlets, join_watersheds2points, load_river_network, clip_river_network, insert_watershed_info, process_watershed_points\n",
    "from src.snap_pour_point import read_flow_accumulation_tif, calculate_new_pour_point\n",
    "from src.delineator import read_drainage_direction, calculate_upstream_v2  \n",
    "from src.polygonize import raster_to_polygon, rasterize_array\n",
    "\n",
    "from run_config_partial import OUTLETS, WATERSHEDS, MODE, FLOW_ACCUMULATION, DRAINAGE_DIRECTION, PIXEL2SEARCH, RIVERS, RESULTS, MAX_STRAHLER\n"
   ]
  },
  {
   "cell_type": "code",
   "execution_count": 21,
   "metadata": {},
   "outputs": [
    {
     "name": "stdout",
     "output_type": "stream",
     "text": [
      "TR03\n",
      "[+] Processing 1.\n",
      "TR12\n"
     ]
    },
    {
     "ename": "RasterioIOError",
     "evalue": "../data/raster/flow_accumulation/TR12.tif: No such file or directory",
     "output_type": "error",
     "traceback": [
      "\u001b[1;31m---------------------------------------------------------------------------\u001b[0m",
      "\u001b[1;31mCPLE_OpenFailedError\u001b[0m                      Traceback (most recent call last)",
      "File \u001b[1;32mrasterio\\_base.pyx:310\u001b[0m, in \u001b[0;36mrasterio._base.DatasetBase.__init__\u001b[1;34m()\u001b[0m\n",
      "File \u001b[1;32mrasterio\\_base.pyx:221\u001b[0m, in \u001b[0;36mrasterio._base.open_dataset\u001b[1;34m()\u001b[0m\n",
      "File \u001b[1;32mrasterio\\_err.pyx:221\u001b[0m, in \u001b[0;36mrasterio._err.exc_wrap_pointer\u001b[1;34m()\u001b[0m\n",
      "\u001b[1;31mCPLE_OpenFailedError\u001b[0m: ../data/raster/flow_accumulation/TR12.tif: No such file or directory",
      "\nDuring handling of the above exception, another exception occurred:\n",
      "\u001b[1;31mRasterioIOError\u001b[0m                           Traceback (most recent call last)",
      "Cell \u001b[1;32mIn[21], line 21\u001b[0m\n\u001b[0;32m     19\u001b[0m \u001b[39mprint\u001b[39m(\u001b[39mf\u001b[39m\u001b[39m\"\u001b[39m\u001b[39m{\u001b[39;00mwatershed\u001b[39m}\u001b[39;00m\u001b[39m\"\u001b[39m)\n\u001b[0;32m     20\u001b[0m filtered_points_labelled  \u001b[39m=\u001b[39m points_labelled[points_labelled[\u001b[39m\"\u001b[39m\u001b[39mWatershed_ID\u001b[39m\u001b[39m\"\u001b[39m] \u001b[39m==\u001b[39m watershed]    \n\u001b[1;32m---> 21\u001b[0m accum, pixel_size \u001b[39m=\u001b[39m read_flow_accumulation_tif(os\u001b[39m.\u001b[39;49mpath\u001b[39m.\u001b[39;49mjoin(FLOW_ACCUMULATION, watershed \u001b[39m+\u001b[39;49m \u001b[39m'\u001b[39;49m\u001b[39m.tif\u001b[39;49m\u001b[39m'\u001b[39;49m))\n\u001b[0;32m     23\u001b[0m drainage_direction, tif_profile, dr_dir_src \u001b[39m=\u001b[39m read_drainage_direction(os\u001b[39m.\u001b[39mpath\u001b[39m.\u001b[39mjoin(DRAINAGE_DIRECTION, watershed \u001b[39m+\u001b[39m \u001b[39m'\u001b[39m\u001b[39m.tif\u001b[39m\u001b[39m'\u001b[39m))\n\u001b[0;32m     25\u001b[0m river_vector \u001b[39m=\u001b[39m load_river_network(os\u001b[39m.\u001b[39mpath\u001b[39m.\u001b[39mjoin(RIVERS, watershed \u001b[39m+\u001b[39m \u001b[39m'\u001b[39m\u001b[39m.geojson\u001b[39m\u001b[39m'\u001b[39m))   \n",
      "File \u001b[1;32md:\\ARSİV-rasatlar\\yagis_alani_Bolgeler\\dsi_watershed_delineation\\src\\snap_pour_point.py:21\u001b[0m, in \u001b[0;36mread_flow_accumulation_tif\u001b[1;34m(path_flow_acc)\u001b[0m\n\u001b[0;32m     18\u001b[0m     \u001b[39mprint\u001b[39m(\u001b[39mf\u001b[39m\u001b[39m\"\u001b[39m\u001b[39m[+] Reading flow accumulation data at \u001b[39m\u001b[39m{\u001b[39;00mpath_flow_acc\u001b[39m}\u001b[39;00m\u001b[39m...\u001b[39m\u001b[39m\"\u001b[39m)\n\u001b[0;32m     20\u001b[0m \u001b[39mtry\u001b[39;00m:\n\u001b[1;32m---> 21\u001b[0m     data \u001b[39m=\u001b[39m rasterio\u001b[39m.\u001b[39;49mopen(path_flow_acc)\n\u001b[0;32m     22\u001b[0m \u001b[39mexcept\u001b[39;00m \u001b[39mFileNotFoundError\u001b[39;00m:\n\u001b[0;32m     23\u001b[0m     \u001b[39mprint\u001b[39m(\u001b[39mf\u001b[39m\u001b[39m'\u001b[39m\u001b[39m{\u001b[39;00mpath_flow_acc\u001b[39m}\u001b[39;00m\u001b[39m is not found!\u001b[39m\u001b[39m\\n\u001b[39;00m\u001b[39mPlease check the file path for the flow accumulation data.\u001b[39m\u001b[39m'\u001b[39m)\n",
      "File \u001b[1;32md:\\VirtualEnvironments\\dsi_delineator\\lib\\site-packages\\rasterio\\env.py:451\u001b[0m, in \u001b[0;36mensure_env_with_credentials.<locals>.wrapper\u001b[1;34m(*args, **kwds)\u001b[0m\n\u001b[0;32m    448\u001b[0m     session \u001b[39m=\u001b[39m DummySession()\n\u001b[0;32m    450\u001b[0m \u001b[39mwith\u001b[39;00m env_ctor(session\u001b[39m=\u001b[39msession):\n\u001b[1;32m--> 451\u001b[0m     \u001b[39mreturn\u001b[39;00m f(\u001b[39m*\u001b[39margs, \u001b[39m*\u001b[39m\u001b[39m*\u001b[39mkwds)\n",
      "File \u001b[1;32md:\\VirtualEnvironments\\dsi_delineator\\lib\\site-packages\\rasterio\\__init__.py:320\u001b[0m, in \u001b[0;36mopen\u001b[1;34m(fp, mode, driver, width, height, count, crs, transform, dtype, nodata, sharing, **kwargs)\u001b[0m\n\u001b[0;32m    317\u001b[0m path \u001b[39m=\u001b[39m _parse_path(raw_dataset_path)\n\u001b[0;32m    319\u001b[0m \u001b[39mif\u001b[39;00m mode \u001b[39m==\u001b[39m \u001b[39m\"\u001b[39m\u001b[39mr\u001b[39m\u001b[39m\"\u001b[39m:\n\u001b[1;32m--> 320\u001b[0m     dataset \u001b[39m=\u001b[39m DatasetReader(path, driver\u001b[39m=\u001b[39mdriver, sharing\u001b[39m=\u001b[39msharing, \u001b[39m*\u001b[39m\u001b[39m*\u001b[39mkwargs)\n\u001b[0;32m    321\u001b[0m \u001b[39melif\u001b[39;00m mode \u001b[39m==\u001b[39m \u001b[39m\"\u001b[39m\u001b[39mr+\u001b[39m\u001b[39m\"\u001b[39m:\n\u001b[0;32m    322\u001b[0m     dataset \u001b[39m=\u001b[39m get_writer_for_path(path, driver\u001b[39m=\u001b[39mdriver)(\n\u001b[0;32m    323\u001b[0m         path, mode, driver\u001b[39m=\u001b[39mdriver, sharing\u001b[39m=\u001b[39msharing, \u001b[39m*\u001b[39m\u001b[39m*\u001b[39mkwargs\n\u001b[0;32m    324\u001b[0m     )\n",
      "File \u001b[1;32mrasterio\\_base.pyx:312\u001b[0m, in \u001b[0;36mrasterio._base.DatasetBase.__init__\u001b[1;34m()\u001b[0m\n",
      "\u001b[1;31mRasterioIOError\u001b[0m: ../data/raster/flow_accumulation/TR12.tif: No such file or directory"
     ]
    }
   ],
   "source": [
    "points = read_outlets(OUTLETS)\n",
    "points_copy = points.copy()\n",
    "if MODE == \"single\":\n",
    "\n",
    "    accum, pixel_size = read_flow_accumulation_tif(FLOW_ACCUMULATION)\n",
    "\n",
    "    drainage_direction, tif_profile, dr_dir_src = read_drainage_direction(DRAINAGE_DIRECTION)\n",
    "\n",
    "    river_vector = load_river_network(RIVERS)   \n",
    "    \n",
    "    points_copy = process_watershed_points(points, accum, pixel_size, drainage_direction, dr_dir_src,\n",
    "                            tif_profile, river_vector, MAX_STRAHLER, RESULTS)\n",
    "elif MODE == \"partial\":\n",
    "\n",
    "    points_labelled = join_watersheds2points(points, WATERSHEDS)\n",
    "    unique_watershed_ids = points_labelled[\"Watershed_ID\"].unique()\n",
    "\n",
    "    for watershed in unique_watershed_ids:\n",
    "        print(f\"{watershed}\")\n",
    "        filtered_points_labelled  = points_labelled[points_labelled[\"Watershed_ID\"] == watershed]    \n",
    "        accum, pixel_size = read_flow_accumulation_tif(os.path.join(FLOW_ACCUMULATION, watershed + '.tif'))\n",
    "\n",
    "        drainage_direction, tif_profile, dr_dir_src = read_drainage_direction(os.path.join(DRAINAGE_DIRECTION, watershed + '.tif'))\n",
    "\n",
    "        river_vector = load_river_network(os.path.join(RIVERS, watershed + '.geojson'))   \n",
    "        \n",
    "        points_copy = process_watershed_points(filtered_points_labelled, accum, pixel_size, drainage_direction, dr_dir_src,\n",
    "                                tif_profile, river_vector, MAX_STRAHLER, RESULTS) \n",
    "        points_labelled = points_labelled.merge(points_copy[['id', 'snap_long', 'snap_lat', 'CalculatedArea[km2]', 'status', 'comment']], \n",
    "                          how='left', left_on=['id'], right_on=['id'])\n"
   ]
  },
  {
   "cell_type": "code",
   "execution_count": 22,
   "metadata": {},
   "outputs": [
    {
     "data": {
      "text/html": [
       "<div>\n",
       "<style scoped>\n",
       "    .dataframe tbody tr th:only-of-type {\n",
       "        vertical-align: middle;\n",
       "    }\n",
       "\n",
       "    .dataframe tbody tr th {\n",
       "        vertical-align: top;\n",
       "    }\n",
       "\n",
       "    .dataframe thead th {\n",
       "        text-align: right;\n",
       "    }\n",
       "</style>\n",
       "<table border=\"1\" class=\"dataframe\">\n",
       "  <thead>\n",
       "    <tr style=\"text-align: right;\">\n",
       "      <th></th>\n",
       "      <th>id</th>\n",
       "      <th>name</th>\n",
       "      <th>long</th>\n",
       "      <th>lat</th>\n",
       "      <th>area[km2]</th>\n",
       "      <th>index_right</th>\n",
       "      <th>Watershed_ID</th>\n",
       "      <th>Watershed_Name</th>\n",
       "      <th>Watershed_Area</th>\n",
       "      <th>snap_long</th>\n",
       "      <th>snap_lat</th>\n",
       "      <th>CalculatedArea[km2]</th>\n",
       "      <th>status</th>\n",
       "      <th>comment</th>\n",
       "    </tr>\n",
       "  </thead>\n",
       "  <tbody>\n",
       "    <tr>\n",
       "      <th>0</th>\n",
       "      <td>1</td>\n",
       "      <td>point_1</td>\n",
       "      <td>29.46242</td>\n",
       "      <td>39.60424</td>\n",
       "      <td>1000</td>\n",
       "      <td>2</td>\n",
       "      <td>TR03</td>\n",
       "      <td>Susurluk</td>\n",
       "      <td>24307.12</td>\n",
       "      <td>29.4625</td>\n",
       "      <td>39.605</td>\n",
       "      <td>1604.9</td>\n",
       "      <td>success</td>\n",
       "      <td></td>\n",
       "    </tr>\n",
       "    <tr>\n",
       "      <th>1</th>\n",
       "      <td>4</td>\n",
       "      <td>point_4</td>\n",
       "      <td>29.47600</td>\n",
       "      <td>40.05800</td>\n",
       "      <td>100</td>\n",
       "      <td>11</td>\n",
       "      <td>TR12</td>\n",
       "      <td>Sakarya</td>\n",
       "      <td>63317.48</td>\n",
       "      <td>NaN</td>\n",
       "      <td>NaN</td>\n",
       "      <td>NaN</td>\n",
       "      <td>NaN</td>\n",
       "      <td>NaN</td>\n",
       "    </tr>\n",
       "  </tbody>\n",
       "</table>\n",
       "</div>"
      ],
      "text/plain": [
       "   id     name      long       lat  area[km2]  index_right Watershed_ID  \\\n",
       "0   1  point_1  29.46242  39.60424       1000            2         TR03   \n",
       "1   4  point_4  29.47600  40.05800        100           11         TR12   \n",
       "\n",
       "  Watershed_Name  Watershed_Area  snap_long  snap_lat  CalculatedArea[km2]  \\\n",
       "0       Susurluk        24307.12    29.4625    39.605               1604.9   \n",
       "1        Sakarya        63317.48        NaN       NaN                  NaN   \n",
       "\n",
       "    status comment  \n",
       "0  success          \n",
       "1      NaN     NaN  "
      ]
     },
     "execution_count": 22,
     "metadata": {},
     "output_type": "execute_result"
    }
   ],
   "source": [
    "points_labelled"
   ]
  },
  {
   "cell_type": "code",
   "execution_count": 14,
   "metadata": {},
   "outputs": [
    {
     "data": {
      "text/html": [
       "<div>\n",
       "<style scoped>\n",
       "    .dataframe tbody tr th:only-of-type {\n",
       "        vertical-align: middle;\n",
       "    }\n",
       "\n",
       "    .dataframe tbody tr th {\n",
       "        vertical-align: top;\n",
       "    }\n",
       "\n",
       "    .dataframe thead th {\n",
       "        text-align: right;\n",
       "    }\n",
       "</style>\n",
       "<table border=\"1\" class=\"dataframe\">\n",
       "  <thead>\n",
       "    <tr style=\"text-align: right;\">\n",
       "      <th></th>\n",
       "      <th>id</th>\n",
       "      <th>snap_long</th>\n",
       "      <th>snap_lat</th>\n",
       "      <th>CalculatedArea[km2]</th>\n",
       "      <th>status</th>\n",
       "      <th>comment</th>\n",
       "    </tr>\n",
       "  </thead>\n",
       "  <tbody>\n",
       "    <tr>\n",
       "      <th>0</th>\n",
       "      <td>1</td>\n",
       "      <td>29.4625</td>\n",
       "      <td>39.605</td>\n",
       "      <td>1604.9</td>\n",
       "      <td>success</td>\n",
       "      <td></td>\n",
       "    </tr>\n",
       "  </tbody>\n",
       "</table>\n",
       "</div>"
      ],
      "text/plain": [
       "   id  snap_long  snap_lat  CalculatedArea[km2]   status comment\n",
       "0   1    29.4625    39.605               1604.9  success        "
      ]
     },
     "execution_count": 14,
     "metadata": {},
     "output_type": "execute_result"
    }
   ],
   "source": [
    "points_copy[[\"id\", \"snap_long\", \"snap_lat\", \"CalculatedArea[km2]\", \"status\", \"comment\"]]"
   ]
  },
  {
   "cell_type": "code",
   "execution_count": 11,
   "metadata": {},
   "outputs": [
    {
     "data": {
      "text/html": [
       "<div>\n",
       "<style scoped>\n",
       "    .dataframe tbody tr th:only-of-type {\n",
       "        vertical-align: middle;\n",
       "    }\n",
       "\n",
       "    .dataframe tbody tr th {\n",
       "        vertical-align: top;\n",
       "    }\n",
       "\n",
       "    .dataframe thead th {\n",
       "        text-align: right;\n",
       "    }\n",
       "</style>\n",
       "<table border=\"1\" class=\"dataframe\">\n",
       "  <thead>\n",
       "    <tr style=\"text-align: right;\">\n",
       "      <th></th>\n",
       "      <th>id</th>\n",
       "      <th>name</th>\n",
       "      <th>long</th>\n",
       "      <th>lat</th>\n",
       "      <th>area[km2]</th>\n",
       "      <th>index_right</th>\n",
       "      <th>Watershed_ID</th>\n",
       "      <th>Watershed_Name</th>\n",
       "      <th>Watershed_Area</th>\n",
       "    </tr>\n",
       "  </thead>\n",
       "  <tbody>\n",
       "    <tr>\n",
       "      <th>0</th>\n",
       "      <td>1</td>\n",
       "      <td>point_1</td>\n",
       "      <td>29.46242</td>\n",
       "      <td>39.60424</td>\n",
       "      <td>1000</td>\n",
       "      <td>2</td>\n",
       "      <td>TR03</td>\n",
       "      <td>Susurluk</td>\n",
       "      <td>24307.12</td>\n",
       "    </tr>\n",
       "    <tr>\n",
       "      <th>1</th>\n",
       "      <td>4</td>\n",
       "      <td>point_4</td>\n",
       "      <td>29.47600</td>\n",
       "      <td>40.05800</td>\n",
       "      <td>100</td>\n",
       "      <td>11</td>\n",
       "      <td>TR12</td>\n",
       "      <td>Sakarya</td>\n",
       "      <td>63317.48</td>\n",
       "    </tr>\n",
       "  </tbody>\n",
       "</table>\n",
       "</div>"
      ],
      "text/plain": [
       "   id     name      long       lat  area[km2]  index_right Watershed_ID  \\\n",
       "0   1  point_1  29.46242  39.60424       1000            2         TR03   \n",
       "1   4  point_4  29.47600  40.05800        100           11         TR12   \n",
       "\n",
       "  Watershed_Name  Watershed_Area  \n",
       "0       Susurluk        24307.12  \n",
       "1        Sakarya        63317.48  "
      ]
     },
     "execution_count": 11,
     "metadata": {},
     "output_type": "execute_result"
    }
   ],
   "source": [
    "points_labelled"
   ]
  },
  {
   "cell_type": "code",
   "execution_count": 18,
   "metadata": {},
   "outputs": [],
   "source": [
    "points_labelled = points_labelled.merge(points_copy[['id', 'snap_long', 'snap_lat', 'CalculatedArea[km2]', 'status', 'comment']], \n",
    "                          how='left', left_on=['id'], right_on=['id'])"
   ]
  },
  {
   "cell_type": "code",
   "execution_count": 20,
   "metadata": {},
   "outputs": [
    {
     "data": {
      "text/html": [
       "<div>\n",
       "<style scoped>\n",
       "    .dataframe tbody tr th:only-of-type {\n",
       "        vertical-align: middle;\n",
       "    }\n",
       "\n",
       "    .dataframe tbody tr th {\n",
       "        vertical-align: top;\n",
       "    }\n",
       "\n",
       "    .dataframe thead th {\n",
       "        text-align: right;\n",
       "    }\n",
       "</style>\n",
       "<table border=\"1\" class=\"dataframe\">\n",
       "  <thead>\n",
       "    <tr style=\"text-align: right;\">\n",
       "      <th></th>\n",
       "      <th>id</th>\n",
       "      <th>name</th>\n",
       "      <th>long</th>\n",
       "      <th>lat</th>\n",
       "      <th>area[km2]</th>\n",
       "      <th>index_right</th>\n",
       "      <th>Watershed_ID</th>\n",
       "      <th>Watershed_Name</th>\n",
       "      <th>Watershed_Area</th>\n",
       "    </tr>\n",
       "  </thead>\n",
       "  <tbody>\n",
       "    <tr>\n",
       "      <th>0</th>\n",
       "      <td>1</td>\n",
       "      <td>point_1</td>\n",
       "      <td>29.46242</td>\n",
       "      <td>39.60424</td>\n",
       "      <td>1000</td>\n",
       "      <td>2</td>\n",
       "      <td>TR03</td>\n",
       "      <td>Susurluk</td>\n",
       "      <td>24307.12</td>\n",
       "    </tr>\n",
       "    <tr>\n",
       "      <th>1</th>\n",
       "      <td>4</td>\n",
       "      <td>point_4</td>\n",
       "      <td>29.47600</td>\n",
       "      <td>40.05800</td>\n",
       "      <td>100</td>\n",
       "      <td>11</td>\n",
       "      <td>TR12</td>\n",
       "      <td>Sakarya</td>\n",
       "      <td>63317.48</td>\n",
       "    </tr>\n",
       "  </tbody>\n",
       "</table>\n",
       "</div>"
      ],
      "text/plain": [
       "   id     name      long       lat  area[km2]  index_right Watershed_ID  \\\n",
       "0   1  point_1  29.46242  39.60424       1000            2         TR03   \n",
       "1   4  point_4  29.47600  40.05800        100           11         TR12   \n",
       "\n",
       "  Watershed_Name  Watershed_Area  \n",
       "0       Susurluk        24307.12  \n",
       "1        Sakarya        63317.48  "
      ]
     },
     "execution_count": 20,
     "metadata": {},
     "output_type": "execute_result"
    }
   ],
   "source": [
    "points_labelled"
   ]
  },
  {
   "cell_type": "code",
   "execution_count": 20,
   "metadata": {},
   "outputs": [],
   "source": [
    "_MODE = \"partial\"\n",
    "if MODE == \"partial\":\n",
    "    points_labelled = join_watersheds2points(points, WATERSHEDS)\n",
    "    unique_watershed_ids = points_labelled[\"Watershed_ID\"].unique()\n",
    "    for watershed in unique_watershed_ids[:1]:\n",
    "        filtered_points_labelled  = points_labelled[points_labelled[\"Watershed_ID\"] == watershed] \n",
    "    "
   ]
  },
  {
   "cell_type": "code",
   "execution_count": 23,
   "metadata": {},
   "outputs": [
    {
     "data": {
      "text/plain": [
       "'TR03'"
      ]
     },
     "execution_count": 23,
     "metadata": {},
     "output_type": "execute_result"
    }
   ],
   "source": [
    "watershed"
   ]
  },
  {
   "cell_type": "code",
   "execution_count": null,
   "metadata": {},
   "outputs": [],
   "source": []
  },
  {
   "cell_type": "code",
   "execution_count": null,
   "metadata": {},
   "outputs": [],
   "source": []
  },
  {
   "cell_type": "code",
   "execution_count": 4,
   "metadata": {},
   "outputs": [
    {
     "name": "stdout",
     "output_type": "stream",
     "text": [
      "[+] Proccessing 1.\n",
      "[+] Proccessing 4.\n"
     ]
    }
   ],
   "source": [
    "for index, row in points.iterrows():\n",
    "    print(f\"[+] Proccessing {row.id}.\")\n",
    "    # Calculate new pour point\n",
    "    new_pour_point = calculate_new_pour_point(accum, pixel_size, (row.long, row.lat), PIXEL2SEARCH)\n",
    "    new_pour_point_xy = dr_dir_src.index(new_pour_point[0], new_pour_point[1])\n",
    "    # Extract watersheds\n",
    "    upstream_area = calculate_upstream_v2(drainage_direction, new_pour_point_xy)\n",
    "    rasterized_array = rasterize_array(upstream_area, tif_profile)\n",
    "    # Save polygon and line as JSON\n",
    "    subbasin = raster_to_polygon(rasterized_array, save_polygon=True, polygon_save_path=os.path.join(RESULTS,\"watershed\", str(row.id)+\"_basin\"))\n",
    "    # Clip rivers\n",
    "\n",
    "    clipped_river_network, feedback = clip_river_network(river_vector, subbasin, max_strahler_order = MAX_STRAHLER, line_save_path=os.path.join(RESULTS,\"river\", str(row.id)+\"_river\"))\n",
    "\n",
    "    # Insert watershed delienation information into the points table\n",
    "    points_copy = insert_watershed_info(points_copy, row, new_pour_point, subbasin[\"CalculatedArea[km2]\"][0], feedback)\n"
   ]
  },
  {
   "cell_type": "code",
   "execution_count": null,
   "metadata": {},
   "outputs": [],
   "source": []
  },
  {
   "cell_type": "code",
   "execution_count": 15,
   "metadata": {},
   "outputs": [
    {
     "name": "stdout",
     "output_type": "stream",
     "text": [
      "[+] Processing 1.\n",
      "[+] Processing 4.\n"
     ]
    },
    {
     "data": {
      "text/html": [
       "<div>\n",
       "<style scoped>\n",
       "    .dataframe tbody tr th:only-of-type {\n",
       "        vertical-align: middle;\n",
       "    }\n",
       "\n",
       "    .dataframe tbody tr th {\n",
       "        vertical-align: top;\n",
       "    }\n",
       "\n",
       "    .dataframe thead th {\n",
       "        text-align: right;\n",
       "    }\n",
       "</style>\n",
       "<table border=\"1\" class=\"dataframe\">\n",
       "  <thead>\n",
       "    <tr style=\"text-align: right;\">\n",
       "      <th></th>\n",
       "      <th>id</th>\n",
       "      <th>name</th>\n",
       "      <th>long</th>\n",
       "      <th>lat</th>\n",
       "      <th>area[km2]</th>\n",
       "      <th>geometry</th>\n",
       "      <th>snap_long</th>\n",
       "      <th>snap_lat</th>\n",
       "      <th>CalculatedArea[km2]</th>\n",
       "      <th>status</th>\n",
       "      <th>comment</th>\n",
       "    </tr>\n",
       "  </thead>\n",
       "  <tbody>\n",
       "    <tr>\n",
       "      <th>0</th>\n",
       "      <td>1</td>\n",
       "      <td>point_1</td>\n",
       "      <td>29.46242</td>\n",
       "      <td>39.60424</td>\n",
       "      <td>1000</td>\n",
       "      <td>POINT (29.46242 39.60424)</td>\n",
       "      <td>29.4625</td>\n",
       "      <td>39.605000</td>\n",
       "      <td>1604.9</td>\n",
       "      <td>success</td>\n",
       "      <td></td>\n",
       "    </tr>\n",
       "    <tr>\n",
       "      <th>1</th>\n",
       "      <td>4</td>\n",
       "      <td>point_4</td>\n",
       "      <td>29.47600</td>\n",
       "      <td>40.05800</td>\n",
       "      <td>100</td>\n",
       "      <td>POINT (29.47600 40.05800)</td>\n",
       "      <td>29.4750</td>\n",
       "      <td>40.059167</td>\n",
       "      <td>1.2</td>\n",
       "      <td>fail</td>\n",
       "      <td>no rivers clipped within the given basin.</td>\n",
       "    </tr>\n",
       "  </tbody>\n",
       "</table>\n",
       "</div>"
      ],
      "text/plain": [
       "   id     name      long       lat  area[km2]                   geometry  \\\n",
       "0   1  point_1  29.46242  39.60424       1000  POINT (29.46242 39.60424)   \n",
       "1   4  point_4  29.47600  40.05800        100  POINT (29.47600 40.05800)   \n",
       "\n",
       "   snap_long   snap_lat  CalculatedArea[km2]   status  \\\n",
       "0    29.4625  39.605000               1604.9  success   \n",
       "1    29.4750  40.059167                  1.2     fail   \n",
       "\n",
       "                                     comment  \n",
       "0                                             \n",
       "1  no rivers clipped within the given basin.  "
      ]
     },
     "execution_count": 15,
     "metadata": {},
     "output_type": "execute_result"
    }
   ],
   "source": [
    "process_watershed_points(points, accum, pixel_size, drainage_direction, dr_dir_src,\n",
    "                            tif_profile, river_vector, MAX_STRAHLER, RESULTS)"
   ]
  },
  {
   "cell_type": "code",
   "execution_count": 14,
   "metadata": {},
   "outputs": [],
   "source": []
  },
  {
   "cell_type": "code",
   "execution_count": 12,
   "metadata": {},
   "outputs": [
    {
     "data": {
      "text/plain": [
       "rasterio.io.DatasetReader"
      ]
     },
     "execution_count": 12,
     "metadata": {},
     "output_type": "execute_result"
    }
   ],
   "source": [
    "type(dr_dir_src)"
   ]
  },
  {
   "cell_type": "code",
   "execution_count": null,
   "metadata": {},
   "outputs": [],
   "source": [
    "points"
   ]
  },
  {
   "cell_type": "code",
   "execution_count": null,
   "metadata": {},
   "outputs": [],
   "source": []
  },
  {
   "cell_type": "code",
   "execution_count": null,
   "metadata": {},
   "outputs": [],
   "source": [
    "def loop_over_points():\n",
    "    for index, row in points.iterrows():\n",
    "   \n",
    "        # Calculate new pour point\n",
    "        new_pour_point = calculate_new_pour_point(accum, pixel_size, (row.long, row.lat), PIXEL2SEARCH)\n",
    "        new_pour_point_xy = dr_dir_src.index(new_pour_point[0], new_pour_point[1])\n",
    "        # Extract watersheds\n",
    "        upstream_area = calculate_upstream_v2(drainage_direction, new_pour_point_xy)\n",
    "        rasterized_array = rasterize_array(upstream_area, tif_profile)\n",
    "        # Save polygon and line as JSON\n",
    "        subbasin = raster_to_polygon(rasterized_array, save_polygon=True, polygon_save_path=os.path.join(RESULTS,\"watershed\", str(row.id)+\"_basin\"))\n",
    "        # Clip rivers\n",
    "        clipped_river_network = clip_river_network(river_vector, subbasin, max_strahler_order = MAX_STRAHLER, line_save_path=os.path.join(RESULTS,\"river\", str(row.id)+\"_river\"))\n"
   ]
  },
  {
   "cell_type": "code",
   "execution_count": null,
   "metadata": {},
   "outputs": [],
   "source": []
  },
  {
   "cell_type": "code",
   "execution_count": null,
   "metadata": {},
   "outputs": [],
   "source": [
    "\n",
    "for index, row in points.iterrows():\n",
    "   \n",
    "    # Calculate new pour point\n",
    "    new_pour_point = calculate_new_pour_point(accum, pixel_size, (row.long, row.lat), PIXEL2SEARCH)\n",
    "    new_pour_point_xy = dr_dir_src.index(new_pour_point[0], new_pour_point[1])\n",
    "    # Extract watersheds\n",
    "    upstream_area = calculate_upstream_v2(drainage_direction, new_pour_point_xy)\n",
    "    rasterized_array = rasterize_array(upstream_area, tif_profile)\n",
    "    # Save polygon and line as JSON\n",
    "    subbasin = raster_to_polygon(rasterized_array, save_polygon=True, polygon_save_path=os.path.join(RESULTS,\"watershed\", str(row.id)+\"_basin\"))\n",
    "    # Clip rivers\n",
    "    clipped_river_network = clip_river_network(river_vector, subbasin, max_strahler_order = MAX_STRAHLER, line_save_path=os.path.join(RESULTS,\"river\", str(row.id)+\"_river\"))\n",
    "      "
   ]
  },
  {
   "cell_type": "code",
   "execution_count": null,
   "metadata": {},
   "outputs": [],
   "source": [
    "def read_drainage_direction(drainage_direction_path, outlets=None, pour_point_coord=None):\n",
    "    \"\"\"\n",
    "    Reads the drainage direction data from a TIFF file.\n",
    "\n",
    "    Parameters:\n",
    "        drainage_direction_path (str): File path of the drainage direction TIFF.\n",
    "        outlets (geopandas.GeoDataFrame, optional): GeoDataFrame containing outlets with 'long' and 'lat' columns.\n",
    "            Each outlet's coordinates will be used as pour points to locate specific cells in the TIFF.\n",
    "        pour_point_coord (tuple, optional): Coordinates of the pour point in the format (x, y).\n",
    "            The pour point coordinates are used to locate the specific cell in the TIFF.\n",
    "\n",
    "    Returns:\n",
    "        tuple: A tuple containing the drainage direction data as a NumPy array,\n",
    "               the pour point coordinates in the TIFF, and the metadata profile of the TIFF.\n",
    "\n",
    "    Notes:\n",
    "        - The function uses the rasterio library to read the TIFF file.\n",
    "        - The drainage direction data is typically represented as an array where each\n",
    "          cell represents the direction of flow.\n",
    "        - If `pour_point_coord` is provided, it is used as the pour point to locate the specific cell in the TIFF.\n",
    "        - If `outlets` is provided, each outlet's coordinates are used as pour points to locate specific cells in the TIFF.\n",
    "        - The metadata profile contains information about the TIFF such as its spatial\n",
    "          reference system, resolution, and other properties.\n",
    "\n",
    "    Raises:\n",
    "        ValueError: If both `outlets` and `pour_point_coord` are provided at the same time, or if `outlets` is not a GeoDataFrame.\n",
    "    \"\"\"\n",
    "    if outlets is not None and pour_point_coord is not None:\n",
    "        raise ValueError(\"Only one of 'outlets' or 'pour_point_coord' should be provided, not both.\")\n",
    "    if outlets is not None and (outlets.empty or outlets is None):\n",
    "        raise ValueError(\"'outlets' GeoDataFrame is empty or None.\")\n",
    "    if outlets is not None and not isinstance(outlets, gpd.GeoDataFrame):\n",
    "        raise ValueError(\"'outlets' must be a GeoDataFrame.\")\n",
    "\n",
    "    with rasterio.open(drainage_direction_path) as src:\n",
    "        drainage_direction = src.read(1)\n",
    "        profile = src.profile\n",
    "        if pour_point_coord:\n",
    "            pour_point_xy = src.index(pour_point_coord[0], pour_point_coord[1])\n",
    "            return drainage_direction, pour_point_xy, profile\n",
    "        if outlets is not None:\n",
    "            for index, row in outlets.iterrows():\n",
    "                pour_point_coord = row.long, row.lat\n",
    "                pour_point_xy = src.index(pour_point_coord[0], pour_point_coord[1])\n",
    "                outlets.loc[index, 'pour_point_x'] = int(pour_point_xy[0])\n",
    "                outlets.loc[index, 'pour_point_y'] = int(pour_point_xy[1])\n",
    "            return drainage_direction, outlets, profile"
   ]
  },
  {
   "attachments": {},
   "cell_type": "markdown",
   "metadata": {},
   "source": [
    "# SET THE PARAMETERS"
   ]
  },
  {
   "cell_type": "code",
   "execution_count": null,
   "metadata": {},
   "outputs": [],
   "source": [
    "# Number of neighboring pixels to consider \n",
    "# in search of the neigboring pixel with the highest flow accumualtion\n",
    "PIXEL2SEARCH = 1"
   ]
  },
  {
   "attachments": {},
   "cell_type": "markdown",
   "metadata": {},
   "source": [
    "# CALCULATION"
   ]
  },
  {
   "cell_type": "code",
   "execution_count": null,
   "metadata": {},
   "outputs": [],
   "source": [
    "path = '../data/flow_accumulation_TR.tif'\n",
    "coord = (28.864, 40.130) \n",
    "coord = (28.963, 40.118) \n",
    "\n",
    "data, pixel_size = read_flow_accumulation_tif(path)\n",
    "new_pour_point = calculate_new_pour_point(data, pixel_size, coord, PIXEL2SEARCH)\n",
    "print(new_pour_point)"
   ]
  },
  {
   "cell_type": "code",
   "execution_count": null,
   "metadata": {},
   "outputs": [],
   "source": [
    "drainage_direction_path = \"../data/drainage_direction_TR.tif\"\n",
    "dr_dir, tif_profile, dr_dir_src = read_drainage_direction(drainage_direction_path)\n",
    "pour_point_xy  = dr_dir_src.index(new_pour_point[0, new_pour_point[1]])\n",
    "# Calculate upstream area\n",
    "upstream_area = calculate_upstream_v2(dr_dir, pour_point_xy)\n",
    "\n",
    "rasterized_array = rasterize_array(upstream_area, tif_profile, )\n",
    "subbasin = raster_to_polygon(rasterized_array, save_polygon=False, polygon_save_path=\"output/polygon\")"
   ]
  },
  {
   "cell_type": "code",
   "execution_count": null,
   "metadata": {},
   "outputs": [],
   "source": [
    "subbasin.plot()"
   ]
  },
  {
   "cell_type": "code",
   "execution_count": null,
   "metadata": {},
   "outputs": [],
   "source": [
    "watershed_id = \"TR03\""
   ]
  },
  {
   "cell_type": "code",
   "execution_count": null,
   "metadata": {},
   "outputs": [],
   "source": [
    "river_vector = load_river_network(watershed_id) "
   ]
  },
  {
   "cell_type": "code",
   "execution_count": null,
   "metadata": {},
   "outputs": [],
   "source": [
    "clipped_river_network = clip_river_network(river_vector, subbasin, 'output/river.geojson')"
   ]
  },
  {
   "attachments": {},
   "cell_type": "markdown",
   "metadata": {},
   "source": [
    "# TEST"
   ]
  },
  {
   "attachments": {},
   "cell_type": "markdown",
   "metadata": {},
   "source": [
    "## Read points"
   ]
  },
  {
   "cell_type": "code",
   "execution_count": null,
   "metadata": {},
   "outputs": [],
   "source": [
    "\n"
   ]
  },
  {
   "cell_type": "code",
   "execution_count": null,
   "metadata": {},
   "outputs": [],
   "source": []
  },
  {
   "cell_type": "code",
   "execution_count": null,
   "metadata": {},
   "outputs": [],
   "source": [
    "points = read_outlets(OUTLETS)"
   ]
  },
  {
   "cell_type": "code",
   "execution_count": null,
   "metadata": {},
   "outputs": [],
   "source": [
    "points.plot()"
   ]
  },
  {
   "cell_type": "code",
   "execution_count": null,
   "metadata": {},
   "outputs": [],
   "source": []
  },
  {
   "cell_type": "code",
   "execution_count": null,
   "metadata": {},
   "outputs": [],
   "source": [
    "points_labelled = join_watersheds2points(points, WATERSHEDS)\n",
    "unique_watershed_ids = points_labelled[\"Watershed_ID\"].unique()\n",
    "for watershed in unique_watershed_ids[:1]:\n",
    "    filtered_points_labelled  = points_labelled[points_labelled[\"Watershed_ID\"] == watershed] "
   ]
  },
  {
   "cell_type": "code",
   "execution_count": null,
   "metadata": {},
   "outputs": [],
   "source": [
    "for watershed in unique_watershed_ids[:1]:\n",
    "    filtered_points_labelled  = points_labelled[points_labelled[\"Watershed_ID\"] == watershed] "
   ]
  },
  {
   "cell_type": "code",
   "execution_count": null,
   "metadata": {},
   "outputs": [],
   "source": [
    "filtered_points_labelled"
   ]
  },
  {
   "cell_type": "code",
   "execution_count": null,
   "metadata": {},
   "outputs": [],
   "source": [
    "for index, row in filtered_points_labelled.iterrows():\n",
    "    coord = [row[\"long\"], row[\"lat\"]]\n",
    "    \n",
    "    \n",
    "    "
   ]
  },
  {
   "cell_type": "code",
   "execution_count": null,
   "metadata": {},
   "outputs": [],
   "source": [
    "points = read_outlets(OUTLETS)\n",
    "\n",
    "# if MODE == \"single\":\n",
    "    "
   ]
  },
  {
   "cell_type": "code",
   "execution_count": null,
   "metadata": {},
   "outputs": [],
   "source": []
  }
 ],
 "metadata": {
  "kernelspec": {
   "display_name": "dsi_delineator",
   "language": "python",
   "name": "python3"
  },
  "language_info": {
   "codemirror_mode": {
    "name": "ipython",
    "version": 3
   },
   "file_extension": ".py",
   "mimetype": "text/x-python",
   "name": "python",
   "nbconvert_exporter": "python",
   "pygments_lexer": "ipython3",
   "version": "3.10.9"
  },
  "orig_nbformat": 4
 },
 "nbformat": 4,
 "nbformat_minor": 2
}
