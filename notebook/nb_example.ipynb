{
 "cells": [
  {
   "attachments": {},
   "cell_type": "markdown",
   "metadata": {},
   "source": [
    "# IMPORT DEPENDENCIES"
   ]
  },
  {
   "cell_type": "code",
   "execution_count": 5,
   "metadata": {},
   "outputs": [],
   "source": [
    "# Add the parent directory of the current script to the system path\n",
    "# to enable importing modules from that directory or its subdirectories.\n",
    "\n",
    "import os\n",
    "import sys\n",
    "\n",
    "module_path = os.path.abspath(os.path.join('..'))\n",
    "\n",
    "if module_path not in sys.path:\n",
    "    sys.path.append(module_path)\n"
   ]
  },
  {
   "cell_type": "code",
   "execution_count": 8,
   "metadata": {},
   "outputs": [],
   "source": [
    "# Import necessary modules and functions\n",
    "import numpy as np\n",
    "import matplotlib.pyplot as plt\n",
    "import rasterio\n",
    "import pandas as pd\n",
    "import geopandas as gpd\n",
    "# Import custom modules and functions\n",
    "from src.snap_pour_point import read_flow_accumulation_tif, calculate_new_pour_point\n",
    "from src.delineator import read_drainage_direction, calculate_upstream_v2 \n",
    "from src.polygonize import raster_to_polygon, rasterize_array"
   ]
  },
  {
   "attachments": {},
   "cell_type": "markdown",
   "metadata": {},
   "source": [
    "# SET THE PARAMETERS"
   ]
  },
  {
   "cell_type": "code",
   "execution_count": 3,
   "metadata": {},
   "outputs": [],
   "source": [
    "# Number of neighboring pixels to consider \n",
    "# in search of the neigboring pixel with the highest flow accumualtion\n",
    "PIXEL2SEARCH = 1"
   ]
  },
  {
   "attachments": {},
   "cell_type": "markdown",
   "metadata": {},
   "source": [
    "# CALCULATION"
   ]
  },
  {
   "cell_type": "code",
   "execution_count": 4,
   "metadata": {},
   "outputs": [
    {
     "name": "stdout",
     "output_type": "stream",
     "text": [
      "[+] Reading flow accumulation data at ../data/flow_accumulation_TR.tif...\n",
      "Flow Accumulation Data Description:\n",
      "Pixel Size: (0.0008333333333333332, -0.0008333333333333334)\n",
      "# of pixel in (row, col): (8036, 23459)\n",
      "CRS: EPSG:4326\n",
      "Snapped Point distance to original location (in degrees): 0.0012692953425628892\n",
      "Snapped Point distance to original location (in meters): 136.5167067965772\n"
     ]
    }
   ],
   "source": [
    "path = '../data/flow_accumulation_TR.tif'\n",
    "coord = (28.864, 40.130) \n",
    "coord = (28.963, 40.118) \n",
    "\n",
    "data, pixel_size = read_flow_accumulation_tif(path)\n",
    "new_pour_point = calculate_new_pour_point(data, pixel_size, coord, PIXEL2SEARCH)"
   ]
  },
  {
   "cell_type": "code",
   "execution_count": 5,
   "metadata": {},
   "outputs": [],
   "source": [
    "drainage_direction_path = \"../data/drainage_direction_TR.tif\"\n",
    "dr_dir, pour_point_xy, tif_profile= read_drainage_direction(drainage_direction_path, new_pour_point)\n",
    "# Calculate upstream area\n",
    "upstream_area = calculate_upstream_v2(dr_dir, pour_point_xy)\n",
    "\n",
    "rasterized_array = rasterize_array(upstream_area, tif_profile, )\n",
    "subbasin = raster_to_polygon(rasterized_array, save_polygon=False, polygon_save_path=\"output/polygon\")"
   ]
  },
  {
   "cell_type": "code",
   "execution_count": 6,
   "metadata": {},
   "outputs": [
    {
     "data": {
      "text/plain": [
       "<Axes: >"
      ]
     },
     "execution_count": 6,
     "metadata": {},
     "output_type": "execute_result"
    },
    {
     "data": {
      "image/png": "[encoded data removed]",
      "text/plain": [
       "<Figure size 640x480 with 1 Axes>"
      ]
     },
     "metadata": {},
     "output_type": "display_data"
    }
   ],
   "source": [
    "subbasin.plot()"
   ]
  },
  {
   "cell_type": "code",
   "execution_count": 7,
   "metadata": {},
   "outputs": [],
   "source": [
    "watershed_id = \"TR03\""
   ]
  },
  {
   "cell_type": "code",
   "execution_count": 8,
   "metadata": {},
   "outputs": [],
   "source": [
    "def load_river_network(watershed_id, path2rivernetwork='../data/vector/river/'):\n",
    "    \"\"\"\n",
    "    Loads a river network GeoDataFrame for a specific watershed ID.\n",
    "    Args:\n",
    "        watershed_id (str): Identifier for the watershed.\n",
    "        path2rivernetwork (str, optional): Path to the directory containing river network data. \n",
    "            Defaults to '../data/vector/river/'.\n",
    "\n",
    "    Returns:\n",
    "        geopandas.GeoDataFrame: River network GeoDataFrame for the specified watershed.\n",
    "    \"\"\"\n",
    "    # Construct the path to the river network file\n",
    "    path = os.path.join(path2rivernetwork, f'{watershed_id}.geojson')\n",
    "\n",
    "    # Load the river network data as a GeoDataFrame\n",
    "    river_vector = gpd.read_file(path)\n",
    "\n",
    "    return river_vector"
   ]
  },
  {
   "cell_type": "code",
   "execution_count": 10,
   "metadata": {},
   "outputs": [],
   "source": [
    "def clip_river_network(river_network, subbasin_polygon, output_file):\n",
    "    \"\"\"\n",
    "    Clips a river network GeoDataFrame using a subbasin polygon and saves the clipped river network as a new GeoJSON file.\n",
    "\n",
    "    Args:\n",
    "        river_network (geopandas.GeoDataFrame): Input river network GeoDataFrame.\n",
    "        subbasin_polygon (geopandas.GeoDataFrame): Subbasin polygon GeoDataFrame.\n",
    "        output_file (str): Path to the output clipped river network GeoJSON file.\n",
    "    \"\"\"\n",
    "    # Clip the river network to the subbasin polygon\n",
    "    clipped_river_network = gpd.clip(river_network, subbasin_polygon)\n",
    "\n",
    "    # # Save the clipped river network as a new GeoJSON file\n",
    "    # clipped_river_network.to_file(output_file, driver='GeoJSON')\n",
    "    \n",
    "    return clipped_river_network "
   ]
  },
  {
   "cell_type": "code",
   "execution_count": 11,
   "metadata": {},
   "outputs": [],
   "source": [
    "river_vector = load_river_network(watershed_id)"
   ]
  },
  {
   "cell_type": "code",
   "execution_count": 12,
   "metadata": {},
   "outputs": [],
   "source": [
    "clipped_river_network = clip_river_network(river_vector, subbasin, 'output/river.geojson')"
   ]
  },
  {
   "attachments": {},
   "cell_type": "markdown",
   "metadata": {},
   "source": [
    "# TEST"
   ]
  },
  {
   "attachments": {},
   "cell_type": "markdown",
   "metadata": {},
   "source": [
    "## Read points"
   ]
  },
  {
   "cell_type": "code",
   "execution_count": null,
   "metadata": {},
   "outputs": [],
   "source": [
    "from run_config import OUTLETS, WATERSHEDS, MODE"
   ]
  },
  {
   "cell_type": "code",
   "execution_count": 40,
   "metadata": {},
   "outputs": [],
   "source": [
    "def read_outlets(path):\n",
    "    \"\"\"\n",
    "    Checks if all column names in df are valid.\n",
    "\n",
    "    Args:\n",
    "        df: The Pandas DataFrame.\n",
    "    Returns:\n",
    "        None if all column names are in col_headers, an error otherwise.\n",
    "    \"\"\"\n",
    "    points = pd.read_csv(path, sep='\\t')\n",
    "    col_headers = ['id', 'name', 'long', 'lat', 'area[km2]']\n",
    "    missing_cols = []\n",
    "    for col in points.columns:\n",
    "        if col not in col_headers:\n",
    "            missing_cols.append(col)\n",
    "\n",
    "    if missing_cols:\n",
    "        raise ValueError(\n",
    "            f\"The following columns are missing from the DataFrame: {missing_cols}. \"\n",
    "            f\"Please add these columns to the DataFrame or update the column headers in {OUTLETS}.\")\n",
    "    else:\n",
    "        return gpd.GeoDataFrame(points, geometry=gpd.points_from_xy(points.long, points.lat), crs = \"EPSG:4326\")"
   ]
  },
  {
   "cell_type": "code",
   "execution_count": 43,
   "metadata": {},
   "outputs": [],
   "source": [
    "points = read_outlets(OUTLETS)"
   ]
  },
  {
   "cell_type": "code",
   "execution_count": 44,
   "metadata": {},
   "outputs": [
    {
     "data": {
      "text/plain": [
       "<Axes: >"
      ]
     },
     "execution_count": 44,
     "metadata": {},
     "output_type": "execute_result"
    },
    {
     "data": {
      "image/png": "[encoded data removed]",
      "text/plain": [
       "<Figure size 640x480 with 1 Axes>"
      ]
     },
     "metadata": {},
     "output_type": "display_data"
    }
   ],
   "source": [
    "points.plot()"
   ]
  },
  {
   "cell_type": "code",
   "execution_count": 58,
   "metadata": {},
   "outputs": [],
   "source": [
    "def join_watersheds2points(points, path2watershed):\n",
    "    \"\"\"\n",
    "    Joins watershed information to points based on spatial relationship and returns the resulting GeoPandas DataFrame.\n",
    "\n",
    "    Args:\n",
    "        points (geopandas.GeoDataFrame): GeoPandas DataFrame containing the points.\n",
    "        path2watershed (str): Path to the watershed GeoJSON file.\n",
    "\n",
    "    Returns:\n",
    "        pandas.DataFrame: DataFrame with the joined watershed information. Columns ['geometry', 'index_right', 'OBJECTID', 'Havza_Adı', 'Havza_Alan']\n",
    "        are removed.\n",
    "\n",
    "    \"\"\"\n",
    "\n",
    "    # Read watershed polygons from GeoJSON file\n",
    "    watersheds = gpd.read_file(path2watershed)\n",
    "\n",
    "    # Perform left join between points and watersheds\n",
    "    joined = gpd.sjoin(points, watersheds, how='left', predicate='within')\n",
    "\n",
    "    # Remove unnecessary columns\n",
    "    columns_to_remove = ['geometry']\n",
    "    joined.drop(columns=columns_to_remove, inplace=True)\n",
    "\n",
    "    # Return the final pandas object\n",
    "    return joined\n"
   ]
  },
  {
   "cell_type": "code",
   "execution_count": 60,
   "metadata": {},
   "outputs": [],
   "source": [
    "points_labelled = join_watersheds2points(points, WATERSHEDS)\n",
    "unique_watershed_ids = points_labelled[\"Watershed_ID\"].unique()"
   ]
  },
  {
   "cell_type": "code",
   "execution_count": 61,
   "metadata": {},
   "outputs": [],
   "source": []
  },
  {
   "cell_type": "code",
   "execution_count": 65,
   "metadata": {},
   "outputs": [],
   "source": [
    "for watershed in unique_watershed_ids[:1]:\n",
    "    filtered_points_labelled  = points_labelled[points_labelled[\"Watershed_ID\"] == watershed] "
   ]
  },
  {
   "cell_type": "code",
   "execution_count": 66,
   "metadata": {},
   "outputs": [
    {
     "data": {
      "text/html": [
       "<div>\n",
       "<style scoped>\n",
       "    .dataframe tbody tr th:only-of-type {\n",
       "        vertical-align: middle;\n",
       "    }\n",
       "\n",
       "    .dataframe tbody tr th {\n",
       "        vertical-align: top;\n",
       "    }\n",
       "\n",
       "    .dataframe thead th {\n",
       "        text-align: right;\n",
       "    }\n",
       "</style>\n",
       "<table border=\"1\" class=\"dataframe\">\n",
       "  <thead>\n",
       "    <tr style=\"text-align: right;\">\n",
       "      <th></th>\n",
       "      <th>id</th>\n",
       "      <th>name</th>\n",
       "      <th>long</th>\n",
       "      <th>lat</th>\n",
       "      <th>area[km2]</th>\n",
       "      <th>index_right</th>\n",
       "      <th>Watershed_ID</th>\n",
       "      <th>Watershed_Name</th>\n",
       "      <th>Watershed_Area</th>\n",
       "    </tr>\n",
       "  </thead>\n",
       "  <tbody>\n",
       "    <tr>\n",
       "      <th>0</th>\n",
       "      <td>1</td>\n",
       "      <td>point_1</td>\n",
       "      <td>29.488</td>\n",
       "      <td>40.614</td>\n",
       "      <td>1000</td>\n",
       "      <td>1</td>\n",
       "      <td>TR02</td>\n",
       "      <td>Marmara</td>\n",
       "      <td>23520.24</td>\n",
       "    </tr>\n",
       "    <tr>\n",
       "      <th>2</th>\n",
       "      <td>3</td>\n",
       "      <td>point_3</td>\n",
       "      <td>29.488</td>\n",
       "      <td>40.614</td>\n",
       "      <td>350</td>\n",
       "      <td>1</td>\n",
       "      <td>TR02</td>\n",
       "      <td>Marmara</td>\n",
       "      <td>23520.24</td>\n",
       "    </tr>\n",
       "  </tbody>\n",
       "</table>\n",
       "</div>"
      ],
      "text/plain": [
       "   id     name    long     lat  area[km2]  index_right Watershed_ID  \\\n",
       "0   1  point_1  29.488  40.614       1000            1         TR02   \n",
       "2   3  point_3  29.488  40.614        350            1         TR02   \n",
       "\n",
       "  Watershed_Name  Watershed_Area  \n",
       "0        Marmara        23520.24  \n",
       "2        Marmara        23520.24  "
      ]
     },
     "execution_count": 66,
     "metadata": {},
     "output_type": "execute_result"
    }
   ],
   "source": [
    "filtered_points_labelled"
   ]
  },
  {
   "cell_type": "code",
   "execution_count": 68,
   "metadata": {},
   "outputs": [
    {
     "name": "stdout",
     "output_type": "stream",
     "text": [
      "[29.488, 40.614]\n",
      "[29.488, 40.614]\n"
     ]
    }
   ],
   "source": [
    "for index, row in filtered_points_labelled.iterrows():\n",
    "    coord = [row[\"long\"], row[\"lat\"]]\n",
    "    \n",
    "    \n",
    "    "
   ]
  },
  {
   "cell_type": "code",
   "execution_count": null,
   "metadata": {},
   "outputs": [],
   "source": [
    "points = read_outlets(OUTLETS)\n",
    "\n",
    "# if MODE == \"single\":\n",
    "    "
   ]
  },
  {
   "cell_type": "code",
   "execution_count": null,
   "metadata": {},
   "outputs": [],
   "source": []
  }
 ],
 "metadata": {
  "kernelspec": {
   "display_name": "dsi_delineator",
   "language": "python",
   "name": "python3"
  },
  "language_info": {
   "codemirror_mode": {
    "name": "ipython",
    "version": 3
   },
   "file_extension": ".py",
   "mimetype": "text/x-python",
   "name": "python",
   "nbconvert_exporter": "python",
   "pygments_lexer": "ipython3",
   "version": "3.10.9"
  },
  "orig_nbformat": 4
 },
 "nbformat": 4,
 "nbformat_minor": 2
}
