{
 "cells": [
  {
   "attachments": {},
   "cell_type": "markdown",
   "metadata": {},
   "source": [
    "# IMPORT DEPENDENCIES"
   ]
  },
  {
   "cell_type": "code",
   "execution_count": 1,
   "metadata": {},
   "outputs": [],
   "source": [
    "# Add the parent directory of the current script to the system path\n",
    "# to enable importing modules from that directory or its subdirectories.\n",
    "import os\n",
    "import sys\n",
    "\n",
    "module_path = os.path.abspath(os.path.join('..'))\n",
    "\n",
    "if module_path not in sys.path:\n",
    "    sys.path.append(module_path)\n"
   ]
  },
  {
   "cell_type": "code",
   "execution_count": 2,
   "metadata": {},
   "outputs": [],
   "source": [
    "# Import necessary modules and functions\n",
    "import numpy as np\n",
    "import matplotlib.pyplot as plt\n",
    "import rasterio\n",
    "import pandas as pd\n",
    "import geopandas as gpd\n",
    "# Import custom modules and functions\n",
    "from src.processing import read_outlets, join_watersheds2points, load_river_network, clip_river_network, insert_watershed_info, process_watershed_points\n",
    "from src.snap_pour_point import read_flow_accumulation_tif, calculate_new_pour_point\n",
    "from src.delineator import read_drainage_direction, calculate_upstream_v2  \n",
    "from src.polygonize import raster_to_polygon, rasterize_array\n",
    "from src.file_manager import create_results_directory\n",
    "\n",
    "from configuration import OUTLETS, WATERSHEDS, MODE, FLOW_ACCUMULATION, DRAINAGE_DIRECTION, PIXEL2SEARCH, RIVERS, RESULTS, MAX_STRAHLER\n"
   ]
  },
  {
   "cell_type": "code",
   "execution_count": 3,
   "metadata": {},
   "outputs": [
    {
     "name": "stdout",
     "output_type": "stream",
     "text": [
      "Delineating the upstream area of the points in TR02...\n",
      "[+] Processing D02A006.\n",
      "[+] Processing D02A031.\n",
      "[+] Processing D02A041.\n"
     ]
    }
   ],
   "source": [
    "\"\"\"\n",
    "Main function for processing hydrological data given the instructions in configuration.py.\n",
    "\"\"\"\n",
    "\n",
    "\n",
    "create_results_directory(RESULTS)\n",
    "\n",
    "points = read_outlets(OUTLETS)\n",
    "\n",
    "points = points.loc[:2]\n",
    "\n",
    "if MODE == \"single\":\n",
    "\n",
    "    accum, pixel_size = read_flow_accumulation_tif(FLOW_ACCUMULATION)\n",
    "\n",
    "    drainage_direction, tif_profile, dr_dir_src = read_drainage_direction(\n",
    "        DRAINAGE_DIRECTION)\n",
    "\n",
    "    river_vector = load_river_network(RIVERS)\n",
    "\n",
    "    points_new = process_watershed_points(points, accum, pixel_size, drainage_direction, dr_dir_src,\n",
    "                                            tif_profile, river_vector, MAX_STRAHLER, RESULTS)\n",
    "    points_new[\"change_rate[%]\"] = 100 * \\\n",
    "        (points_new[\"CalculatedArea[km2]\"] -\n",
    "            points_new[\"area[km2]\"]) / points_new[\"area[km2]\"]\n",
    "\n",
    "elif MODE == \"partial\":\n",
    "    points_labelled = join_watersheds2points(points, WATERSHEDS)\n",
    "\n",
    "    unique_watershed_ids = points_labelled[\"Watershed_ID\"].unique()\n",
    "\n",
    "    points_new = pd.DataFrame()\n",
    "\n",
    "    for watershed in unique_watershed_ids:\n",
    "        print(\n",
    "            f\"Delineating the upstream area of the points in {watershed}...\")\n",
    "\n",
    "        filtered_points_labelled = points_labelled[points_labelled[\"Watershed_ID\"] == watershed]\n",
    "\n",
    "        accum, pixel_size = read_flow_accumulation_tif(\n",
    "            os.path.join(FLOW_ACCUMULATION, watershed + '.tif'))\n",
    "\n",
    "        drainage_direction, tif_profile, dr_dir_src = read_drainage_direction(\n",
    "            os.path.join(DRAINAGE_DIRECTION, watershed + '.tif'))\n",
    "\n",
    "        river_vector = load_river_network(\n",
    "            os.path.join(RIVERS, watershed + '.geojson'))\n",
    "\n",
    "        points_watershed, subbasin, river = process_watershed_points(filtered_points_labelled, accum, pixel_size, drainage_direction, dr_dir_src,\n",
    "                                                    tif_profile, river_vector, MAX_STRAHLER, RESULTS)\n",
    "\n",
    "        points_new = pd.concat(\n",
    "            [points_new, points_watershed], ignore_index=True)\n",
    "    points_new[\"change_rate[%]\"] = 100 * \\\n",
    "        (points_new[\"CalculatedArea[km2]\"] -\n",
    "            points_new[\"area[km2]\"]) / points_new[\"area[km2]\"]\n"
   ]
  },
  {
   "cell_type": "code",
   "execution_count": 21,
   "metadata": {},
   "outputs": [
    {
     "data": {
      "text/html": [
       "<div>\n",
       "<style scoped>\n",
       "    .dataframe tbody tr th:only-of-type {\n",
       "        vertical-align: middle;\n",
       "    }\n",
       "\n",
       "    .dataframe tbody tr th {\n",
       "        vertical-align: top;\n",
       "    }\n",
       "\n",
       "    .dataframe thead th {\n",
       "        text-align: right;\n",
       "    }\n",
       "</style>\n",
       "<table border=\"1\" class=\"dataframe\">\n",
       "  <thead>\n",
       "    <tr style=\"text-align: right;\">\n",
       "      <th></th>\n",
       "      <th>OBJECTID</th>\n",
       "      <th>adi</th>\n",
       "      <th>nehir_kod</th>\n",
       "      <th>hidrolojik</th>\n",
       "      <th>strahler</th>\n",
       "      <th>olcek_sini</th>\n",
       "      <th>nehir_turu</th>\n",
       "      <th>uzunluk</th>\n",
       "      <th>yatak_geni</th>\n",
       "      <th>egim</th>\n",
       "      <th>ortalama_k</th>\n",
       "      <th>korunan_al</th>\n",
       "      <th>baglanti</th>\n",
       "      <th>Havza_Id</th>\n",
       "      <th>Shape_Leng</th>\n",
       "      <th>geometry</th>\n",
       "    </tr>\n",
       "  </thead>\n",
       "  <tbody>\n",
       "    <tr>\n",
       "      <th>8696</th>\n",
       "      <td>18706.0</td>\n",
       "      <td>Bilinmiyor</td>\n",
       "      <td>TR02NH049496</td>\n",
       "      <td>1</td>\n",
       "      <td>1</td>\n",
       "      <td>3</td>\n",
       "      <td>1</td>\n",
       "      <td>1113.9</td>\n",
       "      <td>1</td>\n",
       "      <td>17.9</td>\n",
       "      <td>558.2</td>\n",
       "      <td>1</td>\n",
       "      <td>2</td>\n",
       "      <td>TR02</td>\n",
       "      <td>0.011311</td>\n",
       "      <td>LINESTRING Z (29.44841 40.54699 658.13000, 29....</td>\n",
       "    </tr>\n",
       "    <tr>\n",
       "      <th>8766</th>\n",
       "      <td>18776.0</td>\n",
       "      <td>Bilinmiyor</td>\n",
       "      <td>TR02NH049975</td>\n",
       "      <td>2</td>\n",
       "      <td>2</td>\n",
       "      <td>3</td>\n",
       "      <td>1</td>\n",
       "      <td>294.4</td>\n",
       "      <td>1</td>\n",
       "      <td>9.9</td>\n",
       "      <td>443.6</td>\n",
       "      <td>1</td>\n",
       "      <td>2</td>\n",
       "      <td>TR02</td>\n",
       "      <td>0.003202</td>\n",
       "      <td>LINESTRING Z (29.44066 40.55425 458.20300, 29....</td>\n",
       "    </tr>\n",
       "    <tr>\n",
       "      <th>8790</th>\n",
       "      <td>18800.0</td>\n",
       "      <td>Bilinmiyor</td>\n",
       "      <td>TR02NH050097</td>\n",
       "      <td>2</td>\n",
       "      <td>2</td>\n",
       "      <td>3</td>\n",
       "      <td>1</td>\n",
       "      <td>93.5</td>\n",
       "      <td>1</td>\n",
       "      <td>11.6</td>\n",
       "      <td>423.5</td>\n",
       "      <td>1</td>\n",
       "      <td>2</td>\n",
       "      <td>TR02</td>\n",
       "      <td>0.000883</td>\n",
       "      <td>LINESTRING Z (29.43791 40.55582 428.92750, 29....</td>\n",
       "    </tr>\n",
       "    <tr>\n",
       "      <th>8794</th>\n",
       "      <td>18804.0</td>\n",
       "      <td>Bilinmiyor</td>\n",
       "      <td>TR02NH050147</td>\n",
       "      <td>2</td>\n",
       "      <td>2</td>\n",
       "      <td>3</td>\n",
       "      <td>1</td>\n",
       "      <td>310.7</td>\n",
       "      <td>1</td>\n",
       "      <td>9.5</td>\n",
       "      <td>403.3</td>\n",
       "      <td>1</td>\n",
       "      <td>2</td>\n",
       "      <td>TR02</td>\n",
       "      <td>0.003606</td>\n",
       "      <td>LINESTRING Z (29.43749 40.55660 418.08310, 29....</td>\n",
       "    </tr>\n",
       "    <tr>\n",
       "      <th>8797</th>\n",
       "      <td>18807.0</td>\n",
       "      <td>Kömürcü</td>\n",
       "      <td>TR02NH050169</td>\n",
       "      <td>2</td>\n",
       "      <td>3</td>\n",
       "      <td>3</td>\n",
       "      <td>1</td>\n",
       "      <td>353.2</td>\n",
       "      <td>1</td>\n",
       "      <td>6.2</td>\n",
       "      <td>377.6</td>\n",
       "      <td>1</td>\n",
       "      <td>2</td>\n",
       "      <td>TR02</td>\n",
       "      <td>0.003488</td>\n",
       "      <td>LINESTRING Z (29.43398 40.55685 388.51990, 29....</td>\n",
       "    </tr>\n",
       "  </tbody>\n",
       "</table>\n",
       "</div>"
      ],
      "text/plain": [
       "      OBJECTID         adi     nehir_kod  hidrolojik  strahler  olcek_sini  \\\n",
       "8696   18706.0  Bilinmiyor  TR02NH049496           1         1           3   \n",
       "8766   18776.0  Bilinmiyor  TR02NH049975           2         2           3   \n",
       "8790   18800.0  Bilinmiyor  TR02NH050097           2         2           3   \n",
       "8794   18804.0  Bilinmiyor  TR02NH050147           2         2           3   \n",
       "8797   18807.0     Kömürcü  TR02NH050169           2         3           3   \n",
       "\n",
       "      nehir_turu  uzunluk  yatak_geni  egim  ortalama_k  korunan_al  baglanti  \\\n",
       "8696           1   1113.9           1  17.9       558.2           1         2   \n",
       "8766           1    294.4           1   9.9       443.6           1         2   \n",
       "8790           1     93.5           1  11.6       423.5           1         2   \n",
       "8794           1    310.7           1   9.5       403.3           1         2   \n",
       "8797           1    353.2           1   6.2       377.6           1         2   \n",
       "\n",
       "     Havza_Id  Shape_Leng                                           geometry  \n",
       "8696     TR02    0.011311  LINESTRING Z (29.44841 40.54699 658.13000, 29....  \n",
       "8766     TR02    0.003202  LINESTRING Z (29.44066 40.55425 458.20300, 29....  \n",
       "8790     TR02    0.000883  LINESTRING Z (29.43791 40.55582 428.92750, 29....  \n",
       "8794     TR02    0.003606  LINESTRING Z (29.43749 40.55660 418.08310, 29....  \n",
       "8797     TR02    0.003488  LINESTRING Z (29.43398 40.55685 388.51990, 29....  "
      ]
     },
     "execution_count": 21,
     "metadata": {},
     "output_type": "execute_result"
    }
   ],
   "source": [
    "river.head()"
   ]
  },
  {
   "cell_type": "code",
   "execution_count": 6,
   "metadata": {},
   "outputs": [
    {
     "data": {
      "text/plain": [
       "<AxesSubplot:>"
      ]
     },
     "execution_count": 6,
     "metadata": {},
     "output_type": "execute_result"
    },
    {
     "data": {
      "image/png": "[encoded data removed]",
      "text/plain": [
       "<Figure size 432x288 with 1 Axes>"
      ]
     },
     "metadata": {
      "needs_background": "light"
     },
     "output_type": "display_data"
    },
    {
     "data": {
      "image/png": "[encoded data removed]",
      "text/plain": [
       "<Figure size 432x288 with 1 Axes>"
      ]
     },
     "metadata": {
      "needs_background": "light"
     },
     "output_type": "display_data"
    }
   ],
   "source": [
    "subbasin.plot()\n",
    "river.plot()"
   ]
  },
  {
   "cell_type": "code",
   "execution_count": null,
   "metadata": {},
   "outputs": [],
   "source": []
  },
  {
   "cell_type": "code",
   "execution_count": 27,
   "metadata": {},
   "outputs": [],
   "source": [
    "import os\n",
    "import simplekml\n",
    "\n",
    "# Create an instance of Kml\n",
    "kml = simplekml.Kml(open=1)\n",
    "\n",
    "# Create a linestring with two points (ie. a line)\n",
    "linestring = kml.newlinestring(name=\"River Segments\")\n",
    "linestring.extendeddata.newdata(name='birds', value=400, displayname=\"Bird Species\")\n",
    "linestring.coords = [(-122.364383,37.824664),(-122.364152,37.824322)]\n",
    "\n",
    "\n",
    "# Save the KML\n",
    "kml.save(\"test\" + \".kml\")"
   ]
  },
  {
   "cell_type": "code",
   "execution_count": 50,
   "metadata": {},
   "outputs": [
    {
     "data": {
      "text/plain": [
       "<AxesSubplot:>"
      ]
     },
     "execution_count": 50,
     "metadata": {},
     "output_type": "execute_result"
    },
    {
     "data": {
      "image/png": "[encoded data removed]",
      "text/plain": [
       "<Figure size 432x288 with 1 Axes>"
      ]
     },
     "metadata": {
      "needs_background": "light"
     },
     "output_type": "display_data"
    }
   ],
   "source": [
    "river.plot()"
   ]
  },
  {
   "cell_type": "code",
   "execution_count": 116,
   "metadata": {},
   "outputs": [],
   "source": [
    "columns = river.columns\n",
    "\n",
    "columns = [col for col in columns if col != \"geometry\"]\n",
    "\n",
    "kml = simplekml.Kml(open=1)\n",
    "for index, row in river.iterrows():\n",
    "    linestring = kml.newlinestring(name= str(index))\n",
    "    linestring.style.linestyle.color = simplekml.Color.hex(\"0000ff\") \n",
    "    linestring.style.linestyle.width = 3  \n",
    "    for col in columns:\n",
    "        linestring.extendeddata.newdata(name=col, value=str(row[col]), displayname=col)\n",
    "        linestring.coords = row[\"geometry\"].coords[:]\n",
    "    \n",
    "kml.save(\"test_river\" + \".kml\")\n",
    "    "
   ]
  },
  {
   "cell_type": "code",
   "execution_count": 118,
   "metadata": {},
   "outputs": [],
   "source": [
    "row = subbasin.loc[0]"
   ]
  },
  {
   "cell_type": "code",
   "execution_count": 119,
   "metadata": {},
   "outputs": [
    {
     "ename": "KeyError",
     "evalue": "'Shape_Leng'",
     "output_type": "error",
     "traceback": [
      "\u001b[1;31m---------------------------------------------------------------------------\u001b[0m",
      "\u001b[1;31mKeyError\u001b[0m                                  Traceback (most recent call last)",
      "\u001b[1;32mc:\\Users\\gurbuz\\.conda\\envs\\data_env\\lib\\site-packages\\pandas\\core\\indexes\\base.py\u001b[0m in \u001b[0;36mget_loc\u001b[1;34m(self, key, method, tolerance)\u001b[0m\n\u001b[0;32m   3801\u001b[0m             \u001b[1;32mtry\u001b[0m\u001b[1;33m:\u001b[0m\u001b[1;33m\u001b[0m\u001b[1;33m\u001b[0m\u001b[0m\n\u001b[1;32m-> 3802\u001b[1;33m                 \u001b[1;32mreturn\u001b[0m \u001b[0mself\u001b[0m\u001b[1;33m.\u001b[0m\u001b[0m_engine\u001b[0m\u001b[1;33m.\u001b[0m\u001b[0mget_loc\u001b[0m\u001b[1;33m(\u001b[0m\u001b[0mcasted_key\u001b[0m\u001b[1;33m)\u001b[0m\u001b[1;33m\u001b[0m\u001b[1;33m\u001b[0m\u001b[0m\n\u001b[0m\u001b[0;32m   3803\u001b[0m             \u001b[1;32mexcept\u001b[0m \u001b[0mKeyError\u001b[0m \u001b[1;32mas\u001b[0m \u001b[0merr\u001b[0m\u001b[1;33m:\u001b[0m\u001b[1;33m\u001b[0m\u001b[1;33m\u001b[0m\u001b[0m\n",
      "\u001b[1;32mc:\\Users\\gurbuz\\.conda\\envs\\data_env\\lib\\site-packages\\pandas\\_libs\\index.pyx\u001b[0m in \u001b[0;36mpandas._libs.index.IndexEngine.get_loc\u001b[1;34m()\u001b[0m\n",
      "\u001b[1;32mc:\\Users\\gurbuz\\.conda\\envs\\data_env\\lib\\site-packages\\pandas\\_libs\\index.pyx\u001b[0m in \u001b[0;36mpandas._libs.index.IndexEngine.get_loc\u001b[1;34m()\u001b[0m\n",
      "\u001b[1;32mpandas\\_libs\\hashtable_class_helper.pxi\u001b[0m in \u001b[0;36mpandas._libs.hashtable.PyObjectHashTable.get_item\u001b[1;34m()\u001b[0m\n",
      "\u001b[1;32mpandas\\_libs\\hashtable_class_helper.pxi\u001b[0m in \u001b[0;36mpandas._libs.hashtable.PyObjectHashTable.get_item\u001b[1;34m()\u001b[0m\n",
      "\u001b[1;31mKeyError\u001b[0m: 'Shape_Leng'",
      "\nThe above exception was the direct cause of the following exception:\n",
      "\u001b[1;31mKeyError\u001b[0m                                  Traceback (most recent call last)",
      "\u001b[1;32m<ipython-input-119-37a5d42e7656>\u001b[0m in \u001b[0;36m<module>\u001b[1;34m\u001b[0m\n\u001b[0;32m      7\u001b[0m \u001b[0mpol\u001b[0m\u001b[1;33m.\u001b[0m\u001b[0mstyle\u001b[0m\u001b[1;33m.\u001b[0m\u001b[0mlinestyle\u001b[0m\u001b[1;33m.\u001b[0m\u001b[0mwidth\u001b[0m \u001b[1;33m=\u001b[0m \u001b[1;36m2\u001b[0m\u001b[1;33m\u001b[0m\u001b[1;33m\u001b[0m\u001b[0m\n\u001b[0;32m      8\u001b[0m \u001b[0mpol\u001b[0m\u001b[1;33m.\u001b[0m\u001b[0mstyle\u001b[0m\u001b[1;33m.\u001b[0m\u001b[0mpolystyle\u001b[0m\u001b[1;33m.\u001b[0m\u001b[0mcolor\u001b[0m \u001b[1;33m=\u001b[0m \u001b[0msimplekml\u001b[0m\u001b[1;33m.\u001b[0m\u001b[0mColor\u001b[0m\u001b[1;33m.\u001b[0m\u001b[0mchangealphaint\u001b[0m\u001b[1;33m(\u001b[0m\u001b[1;36m75\u001b[0m\u001b[1;33m,\u001b[0m \u001b[0msimplekml\u001b[0m\u001b[1;33m.\u001b[0m\u001b[0mColor\u001b[0m\u001b[1;33m.\u001b[0m\u001b[0mblack\u001b[0m\u001b[1;33m)\u001b[0m\u001b[1;33m\u001b[0m\u001b[1;33m\u001b[0m\u001b[0m\n\u001b[1;32m----> 9\u001b[1;33m \u001b[0mpol\u001b[0m\u001b[1;33m.\u001b[0m\u001b[0mextendeddata\u001b[0m\u001b[1;33m.\u001b[0m\u001b[0mnewdata\u001b[0m\u001b[1;33m(\u001b[0m\u001b[0mname\u001b[0m\u001b[1;33m=\u001b[0m\u001b[0mcol\u001b[0m\u001b[1;33m,\u001b[0m \u001b[0mvalue\u001b[0m\u001b[1;33m=\u001b[0m\u001b[0mstr\u001b[0m\u001b[1;33m(\u001b[0m\u001b[0mrow\u001b[0m\u001b[1;33m[\u001b[0m\u001b[0mcol\u001b[0m\u001b[1;33m]\u001b[0m\u001b[1;33m)\u001b[0m\u001b[1;33m,\u001b[0m \u001b[0mdisplayname\u001b[0m\u001b[1;33m=\u001b[0m\u001b[0mcol\u001b[0m\u001b[1;33m)\u001b[0m\u001b[1;33m\u001b[0m\u001b[1;33m\u001b[0m\u001b[0m\n\u001b[0m\u001b[0;32m     10\u001b[0m \u001b[0mkml\u001b[0m\u001b[1;33m.\u001b[0m\u001b[0msave\u001b[0m\u001b[1;33m(\u001b[0m\u001b[1;34m\"poly.kml\"\u001b[0m\u001b[1;33m)\u001b[0m\u001b[1;33m\u001b[0m\u001b[1;33m\u001b[0m\u001b[0m\n",
      "\u001b[1;32mc:\\Users\\gurbuz\\.conda\\envs\\data_env\\lib\\site-packages\\pandas\\core\\series.py\u001b[0m in \u001b[0;36m__getitem__\u001b[1;34m(self, key)\u001b[0m\n\u001b[0;32m    979\u001b[0m \u001b[1;33m\u001b[0m\u001b[0m\n\u001b[0;32m    980\u001b[0m         \u001b[1;32melif\u001b[0m \u001b[0mkey_is_scalar\u001b[0m\u001b[1;33m:\u001b[0m\u001b[1;33m\u001b[0m\u001b[1;33m\u001b[0m\u001b[0m\n\u001b[1;32m--> 981\u001b[1;33m             \u001b[1;32mreturn\u001b[0m \u001b[0mself\u001b[0m\u001b[1;33m.\u001b[0m\u001b[0m_get_value\u001b[0m\u001b[1;33m(\u001b[0m\u001b[0mkey\u001b[0m\u001b[1;33m)\u001b[0m\u001b[1;33m\u001b[0m\u001b[1;33m\u001b[0m\u001b[0m\n\u001b[0m\u001b[0;32m    982\u001b[0m \u001b[1;33m\u001b[0m\u001b[0m\n\u001b[0;32m    983\u001b[0m         \u001b[1;32mif\u001b[0m \u001b[0mis_hashable\u001b[0m\u001b[1;33m(\u001b[0m\u001b[0mkey\u001b[0m\u001b[1;33m)\u001b[0m\u001b[1;33m:\u001b[0m\u001b[1;33m\u001b[0m\u001b[1;33m\u001b[0m\u001b[0m\n",
      "\u001b[1;32mc:\\Users\\gurbuz\\.conda\\envs\\data_env\\lib\\site-packages\\pandas\\core\\series.py\u001b[0m in \u001b[0;36m_get_value\u001b[1;34m(self, label, takeable)\u001b[0m\n\u001b[0;32m   1087\u001b[0m \u001b[1;33m\u001b[0m\u001b[0m\n\u001b[0;32m   1088\u001b[0m         \u001b[1;31m# Similar to Index.get_value, but we do not fall back to positional\u001b[0m\u001b[1;33m\u001b[0m\u001b[1;33m\u001b[0m\u001b[1;33m\u001b[0m\u001b[0m\n\u001b[1;32m-> 1089\u001b[1;33m         \u001b[0mloc\u001b[0m \u001b[1;33m=\u001b[0m \u001b[0mself\u001b[0m\u001b[1;33m.\u001b[0m\u001b[0mindex\u001b[0m\u001b[1;33m.\u001b[0m\u001b[0mget_loc\u001b[0m\u001b[1;33m(\u001b[0m\u001b[0mlabel\u001b[0m\u001b[1;33m)\u001b[0m\u001b[1;33m\u001b[0m\u001b[1;33m\u001b[0m\u001b[0m\n\u001b[0m\u001b[0;32m   1090\u001b[0m         \u001b[1;32mreturn\u001b[0m \u001b[0mself\u001b[0m\u001b[1;33m.\u001b[0m\u001b[0mindex\u001b[0m\u001b[1;33m.\u001b[0m\u001b[0m_get_values_for_loc\u001b[0m\u001b[1;33m(\u001b[0m\u001b[0mself\u001b[0m\u001b[1;33m,\u001b[0m \u001b[0mloc\u001b[0m\u001b[1;33m,\u001b[0m \u001b[0mlabel\u001b[0m\u001b[1;33m)\u001b[0m\u001b[1;33m\u001b[0m\u001b[1;33m\u001b[0m\u001b[0m\n\u001b[0;32m   1091\u001b[0m \u001b[1;33m\u001b[0m\u001b[0m\n",
      "\u001b[1;32mc:\\Users\\gurbuz\\.conda\\envs\\data_env\\lib\\site-packages\\pandas\\core\\indexes\\base.py\u001b[0m in \u001b[0;36mget_loc\u001b[1;34m(self, key, method, tolerance)\u001b[0m\n\u001b[0;32m   3802\u001b[0m                 \u001b[1;32mreturn\u001b[0m \u001b[0mself\u001b[0m\u001b[1;33m.\u001b[0m\u001b[0m_engine\u001b[0m\u001b[1;33m.\u001b[0m\u001b[0mget_loc\u001b[0m\u001b[1;33m(\u001b[0m\u001b[0mcasted_key\u001b[0m\u001b[1;33m)\u001b[0m\u001b[1;33m\u001b[0m\u001b[1;33m\u001b[0m\u001b[0m\n\u001b[0;32m   3803\u001b[0m             \u001b[1;32mexcept\u001b[0m \u001b[0mKeyError\u001b[0m \u001b[1;32mas\u001b[0m \u001b[0merr\u001b[0m\u001b[1;33m:\u001b[0m\u001b[1;33m\u001b[0m\u001b[1;33m\u001b[0m\u001b[0m\n\u001b[1;32m-> 3804\u001b[1;33m                 \u001b[1;32mraise\u001b[0m \u001b[0mKeyError\u001b[0m\u001b[1;33m(\u001b[0m\u001b[0mkey\u001b[0m\u001b[1;33m)\u001b[0m \u001b[1;32mfrom\u001b[0m \u001b[0merr\u001b[0m\u001b[1;33m\u001b[0m\u001b[1;33m\u001b[0m\u001b[0m\n\u001b[0m\u001b[0;32m   3805\u001b[0m             \u001b[1;32mexcept\u001b[0m \u001b[0mTypeError\u001b[0m\u001b[1;33m:\u001b[0m\u001b[1;33m\u001b[0m\u001b[1;33m\u001b[0m\u001b[0m\n\u001b[0;32m   3806\u001b[0m                 \u001b[1;31m# If we have a listlike key, _check_indexing_error will raise\u001b[0m\u001b[1;33m\u001b[0m\u001b[1;33m\u001b[0m\u001b[1;33m\u001b[0m\u001b[0m\n",
      "\u001b[1;31mKeyError\u001b[0m: 'Shape_Leng'"
     ]
    }
   ],
   "source": [
    "kml = simplekml.Kml(open=1)\n",
    "\n",
    "pol = kml.newpolygon(name=str(index))\n",
    "pol.outerboundaryis = list(zip(*row.geometry.exterior.coords.xy))\n",
    "\n",
    "pol.style.linestyle.color = simplekml.Color.white\n",
    "pol.style.linestyle.width = 2\n",
    "pol.style.polystyle.color = simplekml.Color.changealphaint(75, simplekml.Color.black)\n",
    "pol.extendeddata.newdata(name=col, value=str(row[col]), displayname=col)\n",
    "kml.save(\"poly.kml\")"
   ]
  },
  {
   "cell_type": "code",
   "execution_count": 120,
   "metadata": {},
   "outputs": [
    {
     "data": {
      "text/plain": [
       "'Shape_Leng'"
      ]
     },
     "execution_count": 120,
     "metadata": {},
     "output_type": "execute_result"
    }
   ],
   "source": [
    "col"
   ]
  },
  {
   "cell_type": "code",
   "execution_count": 121,
   "metadata": {},
   "outputs": [],
   "source": [
    "def geopandas2KML(gpd, kml_save_path, vector_type):\n",
    "    # redtrieve the name of the file without extension\\\n",
    "    kml_name = os.path.basename(kml_save_path).split(\".\")[0]\n",
    "\n",
    "    columns = gpd.columns\n",
    "    columns = [col for col in columns if col != \"geometry\"]\n",
    "\n",
    "    kml = simplekml.Kml(open=1)\n",
    "    if vector_type == \"linestring\":\n",
    "        for index, row in gpd.iterrows():\n",
    "            linestring = kml.newlinestring(name= kml_name)\n",
    "            linestring.style.linestyle.color = simplekml.Color.hex(\"0000ff\") \n",
    "            linestring.style.linestyle.width = 3  \n",
    "            for col in columns:\n",
    "                linestring.extendeddata.newdata(name=col, value=row[col], displayname=col)\n",
    "                linestring.coords = row[\"geometry\"].coords[:]\n",
    "\n",
    "    elif vector_type == \"polygon\":\n",
    "        for index, row in gpd.iterrows():\n",
    "            pol = kml.newpolygon(name= kml_name)\n",
    "            pol.outerboundaryis = list(zip(*row.geometry.exterior.coords.xy))\n",
    "            pol.style.linestyle.color = simplekml.Color.white\n",
    "            pol.style.linestyle.width = 2\n",
    "            pol.style.polystyle.color = simplekml.Color.changealphaint(75, simplekml.Color.black)\n",
    "            for col in columns:\n",
    "                pol.extendeddata.newdata(name=col, value=row[col], displayname=col)\n",
    "\n",
    "    kml.save(kml_save_path)\n"
   ]
  },
  {
   "cell_type": "code",
   "execution_count": 122,
   "metadata": {},
   "outputs": [],
   "source": [
    "geopandas2KML(subbasin, \"test_function.kml\", \"polygon\")"
   ]
  },
  {
   "cell_type": "code",
   "execution_count": 123,
   "metadata": {},
   "outputs": [
    {
     "data": {
      "text/html": [
       "<div>\n",
       "<style scoped>\n",
       "    .dataframe tbody tr th:only-of-type {\n",
       "        vertical-align: middle;\n",
       "    }\n",
       "\n",
       "    .dataframe tbody tr th {\n",
       "        vertical-align: top;\n",
       "    }\n",
       "\n",
       "    .dataframe thead th {\n",
       "        text-align: right;\n",
       "    }\n",
       "</style>\n",
       "<table border=\"1\" class=\"dataframe\">\n",
       "  <thead>\n",
       "    <tr style=\"text-align: right;\">\n",
       "      <th></th>\n",
       "      <th>OBJECTID</th>\n",
       "      <th>adi</th>\n",
       "      <th>nehir_kod</th>\n",
       "      <th>hidrolojik</th>\n",
       "      <th>strahler</th>\n",
       "      <th>olcek_sini</th>\n",
       "      <th>nehir_turu</th>\n",
       "      <th>uzunluk</th>\n",
       "      <th>yatak_geni</th>\n",
       "      <th>egim</th>\n",
       "      <th>ortalama_k</th>\n",
       "      <th>korunan_al</th>\n",
       "      <th>baglanti</th>\n",
       "      <th>Havza_Id</th>\n",
       "      <th>Shape_Leng</th>\n",
       "      <th>geometry</th>\n",
       "    </tr>\n",
       "  </thead>\n",
       "  <tbody>\n",
       "    <tr>\n",
       "      <th>8696</th>\n",
       "      <td>18706.0</td>\n",
       "      <td>Bilinmiyor</td>\n",
       "      <td>TR02NH049496</td>\n",
       "      <td>1</td>\n",
       "      <td>1</td>\n",
       "      <td>3</td>\n",
       "      <td>1</td>\n",
       "      <td>1113.9</td>\n",
       "      <td>1</td>\n",
       "      <td>17.9</td>\n",
       "      <td>558.2</td>\n",
       "      <td>1</td>\n",
       "      <td>2</td>\n",
       "      <td>TR02</td>\n",
       "      <td>0.011311</td>\n",
       "      <td>LINESTRING Z (29.44841 40.54699 658.13000, 29....</td>\n",
       "    </tr>\n",
       "    <tr>\n",
       "      <th>8766</th>\n",
       "      <td>18776.0</td>\n",
       "      <td>Bilinmiyor</td>\n",
       "      <td>TR02NH049975</td>\n",
       "      <td>2</td>\n",
       "      <td>2</td>\n",
       "      <td>3</td>\n",
       "      <td>1</td>\n",
       "      <td>294.4</td>\n",
       "      <td>1</td>\n",
       "      <td>9.9</td>\n",
       "      <td>443.6</td>\n",
       "      <td>1</td>\n",
       "      <td>2</td>\n",
       "      <td>TR02</td>\n",
       "      <td>0.003202</td>\n",
       "      <td>LINESTRING Z (29.44066 40.55425 458.20300, 29....</td>\n",
       "    </tr>\n",
       "    <tr>\n",
       "      <th>8790</th>\n",
       "      <td>18800.0</td>\n",
       "      <td>Bilinmiyor</td>\n",
       "      <td>TR02NH050097</td>\n",
       "      <td>2</td>\n",
       "      <td>2</td>\n",
       "      <td>3</td>\n",
       "      <td>1</td>\n",
       "      <td>93.5</td>\n",
       "      <td>1</td>\n",
       "      <td>11.6</td>\n",
       "      <td>423.5</td>\n",
       "      <td>1</td>\n",
       "      <td>2</td>\n",
       "      <td>TR02</td>\n",
       "      <td>0.000883</td>\n",
       "      <td>LINESTRING Z (29.43791 40.55582 428.92750, 29....</td>\n",
       "    </tr>\n",
       "    <tr>\n",
       "      <th>8794</th>\n",
       "      <td>18804.0</td>\n",
       "      <td>Bilinmiyor</td>\n",
       "      <td>TR02NH050147</td>\n",
       "      <td>2</td>\n",
       "      <td>2</td>\n",
       "      <td>3</td>\n",
       "      <td>1</td>\n",
       "      <td>310.7</td>\n",
       "      <td>1</td>\n",
       "      <td>9.5</td>\n",
       "      <td>403.3</td>\n",
       "      <td>1</td>\n",
       "      <td>2</td>\n",
       "      <td>TR02</td>\n",
       "      <td>0.003606</td>\n",
       "      <td>LINESTRING Z (29.43749 40.55660 418.08310, 29....</td>\n",
       "    </tr>\n",
       "    <tr>\n",
       "      <th>8797</th>\n",
       "      <td>18807.0</td>\n",
       "      <td>Kömürcü</td>\n",
       "      <td>TR02NH050169</td>\n",
       "      <td>2</td>\n",
       "      <td>3</td>\n",
       "      <td>3</td>\n",
       "      <td>1</td>\n",
       "      <td>353.2</td>\n",
       "      <td>1</td>\n",
       "      <td>6.2</td>\n",
       "      <td>377.6</td>\n",
       "      <td>1</td>\n",
       "      <td>2</td>\n",
       "      <td>TR02</td>\n",
       "      <td>0.003488</td>\n",
       "      <td>LINESTRING Z (29.43398 40.55685 388.51990, 29....</td>\n",
       "    </tr>\n",
       "    <tr>\n",
       "      <th>...</th>\n",
       "      <td>...</td>\n",
       "      <td>...</td>\n",
       "      <td>...</td>\n",
       "      <td>...</td>\n",
       "      <td>...</td>\n",
       "      <td>...</td>\n",
       "      <td>...</td>\n",
       "      <td>...</td>\n",
       "      <td>...</td>\n",
       "      <td>...</td>\n",
       "      <td>...</td>\n",
       "      <td>...</td>\n",
       "      <td>...</td>\n",
       "      <td>...</td>\n",
       "      <td>...</td>\n",
       "      <td>...</td>\n",
       "    </tr>\n",
       "    <tr>\n",
       "      <th>9846</th>\n",
       "      <td>19856.0</td>\n",
       "      <td>Kara</td>\n",
       "      <td>TR02NH056146</td>\n",
       "      <td>2</td>\n",
       "      <td>4</td>\n",
       "      <td>2</td>\n",
       "      <td>1</td>\n",
       "      <td>551.4</td>\n",
       "      <td>1</td>\n",
       "      <td>0.6</td>\n",
       "      <td>61.1</td>\n",
       "      <td>1</td>\n",
       "      <td>2</td>\n",
       "      <td>TR02</td>\n",
       "      <td>0.005823</td>\n",
       "      <td>LINESTRING Z (29.47771 40.63777 62.71950, 29.4...</td>\n",
       "    </tr>\n",
       "    <tr>\n",
       "      <th>9871</th>\n",
       "      <td>19881.0</td>\n",
       "      <td>Yalak</td>\n",
       "      <td>TR02NH056248</td>\n",
       "      <td>3</td>\n",
       "      <td>6</td>\n",
       "      <td>2</td>\n",
       "      <td>1</td>\n",
       "      <td>102.8</td>\n",
       "      <td>1</td>\n",
       "      <td>0.0</td>\n",
       "      <td>54.7</td>\n",
       "      <td>2</td>\n",
       "      <td>2</td>\n",
       "      <td>TR02</td>\n",
       "      <td>0.001037</td>\n",
       "      <td>LINESTRING Z (29.50426 40.63927 51.31340, 29.5...</td>\n",
       "    </tr>\n",
       "    <tr>\n",
       "      <th>9880</th>\n",
       "      <td>19890.0</td>\n",
       "      <td>Yalak</td>\n",
       "      <td>TR02NH056300</td>\n",
       "      <td>3</td>\n",
       "      <td>6</td>\n",
       "      <td>2</td>\n",
       "      <td>1</td>\n",
       "      <td>285.8</td>\n",
       "      <td>1</td>\n",
       "      <td>3.4</td>\n",
       "      <td>53.1</td>\n",
       "      <td>2</td>\n",
       "      <td>2</td>\n",
       "      <td>TR02</td>\n",
       "      <td>0.003156</td>\n",
       "      <td>LINESTRING Z (29.50360 40.63999 57.99470, 29.5...</td>\n",
       "    </tr>\n",
       "    <tr>\n",
       "      <th>9883</th>\n",
       "      <td>19893.0</td>\n",
       "      <td>Kara</td>\n",
       "      <td>TR02NH056312</td>\n",
       "      <td>3</td>\n",
       "      <td>4</td>\n",
       "      <td>2</td>\n",
       "      <td>1</td>\n",
       "      <td>441.1</td>\n",
       "      <td>1</td>\n",
       "      <td>0.2</td>\n",
       "      <td>59.0</td>\n",
       "      <td>1</td>\n",
       "      <td>2</td>\n",
       "      <td>TR02</td>\n",
       "      <td>0.004522</td>\n",
       "      <td>LINESTRING Z (29.48129 40.64011 59.39360, 29.4...</td>\n",
       "    </tr>\n",
       "    <tr>\n",
       "      <th>9896</th>\n",
       "      <td>19906.0</td>\n",
       "      <td>Yalak</td>\n",
       "      <td>TR02NH056392</td>\n",
       "      <td>3</td>\n",
       "      <td>6</td>\n",
       "      <td>2</td>\n",
       "      <td>1</td>\n",
       "      <td>1083.2</td>\n",
       "      <td>1</td>\n",
       "      <td>0.5</td>\n",
       "      <td>45.3</td>\n",
       "      <td>2</td>\n",
       "      <td>2</td>\n",
       "      <td>TR02</td>\n",
       "      <td>0.011772</td>\n",
       "      <td>LINESTRING Z (29.50080 40.64127 48.29880, 29.5...</td>\n",
       "    </tr>\n",
       "  </tbody>\n",
       "</table>\n",
       "<p>283 rows × 16 columns</p>\n",
       "</div>"
      ],
      "text/plain": [
       "      OBJECTID         adi     nehir_kod  hidrolojik  strahler  olcek_sini  \\\n",
       "8696   18706.0  Bilinmiyor  TR02NH049496           1         1           3   \n",
       "8766   18776.0  Bilinmiyor  TR02NH049975           2         2           3   \n",
       "8790   18800.0  Bilinmiyor  TR02NH050097           2         2           3   \n",
       "8794   18804.0  Bilinmiyor  TR02NH050147           2         2           3   \n",
       "8797   18807.0     Kömürcü  TR02NH050169           2         3           3   \n",
       "...        ...         ...           ...         ...       ...         ...   \n",
       "9846   19856.0        Kara  TR02NH056146           2         4           2   \n",
       "9871   19881.0       Yalak  TR02NH056248           3         6           2   \n",
       "9880   19890.0       Yalak  TR02NH056300           3         6           2   \n",
       "9883   19893.0        Kara  TR02NH056312           3         4           2   \n",
       "9896   19906.0       Yalak  TR02NH056392           3         6           2   \n",
       "\n",
       "      nehir_turu  uzunluk  yatak_geni  egim  ortalama_k  korunan_al  baglanti  \\\n",
       "8696           1   1113.9           1  17.9       558.2           1         2   \n",
       "8766           1    294.4           1   9.9       443.6           1         2   \n",
       "8790           1     93.5           1  11.6       423.5           1         2   \n",
       "8794           1    310.7           1   9.5       403.3           1         2   \n",
       "8797           1    353.2           1   6.2       377.6           1         2   \n",
       "...          ...      ...         ...   ...         ...         ...       ...   \n",
       "9846           1    551.4           1   0.6        61.1           1         2   \n",
       "9871           1    102.8           1   0.0        54.7           2         2   \n",
       "9880           1    285.8           1   3.4        53.1           2         2   \n",
       "9883           1    441.1           1   0.2        59.0           1         2   \n",
       "9896           1   1083.2           1   0.5        45.3           2         2   \n",
       "\n",
       "     Havza_Id  Shape_Leng                                           geometry  \n",
       "8696     TR02    0.011311  LINESTRING Z (29.44841 40.54699 658.13000, 29....  \n",
       "8766     TR02    0.003202  LINESTRING Z (29.44066 40.55425 458.20300, 29....  \n",
       "8790     TR02    0.000883  LINESTRING Z (29.43791 40.55582 428.92750, 29....  \n",
       "8794     TR02    0.003606  LINESTRING Z (29.43749 40.55660 418.08310, 29....  \n",
       "8797     TR02    0.003488  LINESTRING Z (29.43398 40.55685 388.51990, 29....  \n",
       "...       ...         ...                                                ...  \n",
       "9846     TR02    0.005823  LINESTRING Z (29.47771 40.63777 62.71950, 29.4...  \n",
       "9871     TR02    0.001037  LINESTRING Z (29.50426 40.63927 51.31340, 29.5...  \n",
       "9880     TR02    0.003156  LINESTRING Z (29.50360 40.63999 57.99470, 29.5...  \n",
       "9883     TR02    0.004522  LINESTRING Z (29.48129 40.64011 59.39360, 29.4...  \n",
       "9896     TR02    0.011772  LINESTRING Z (29.50080 40.64127 48.29880, 29.5...  \n",
       "\n",
       "[283 rows x 16 columns]"
      ]
     },
     "execution_count": 123,
     "metadata": {},
     "output_type": "execute_result"
    }
   ],
   "source": [
    "\n",
    "river"
   ]
  },
  {
   "cell_type": "code",
   "execution_count": 126,
   "metadata": {},
   "outputs": [
    {
     "data": {
      "text/plain": [
       "Index(['geometry', 'CalculatedArea[km2]'], dtype='object')"
      ]
     },
     "execution_count": 126,
     "metadata": {},
     "output_type": "execute_result"
    }
   ],
   "source": [
    "subbasin.columns"
   ]
  },
  {
   "cell_type": "code",
   "execution_count": 128,
   "metadata": {},
   "outputs": [],
   "source": [
    "import geopandas\n",
    "from shapely.geometry import MultiPoint\n",
    "d = {\n",
    "    \"col1\": [\"name1\", \"name2\"],\n",
    "    \"geometry\": [\n",
    "        MultiPoint([(1, 2), (3, 4)]),\n",
    "        MultiPoint([(2, 1), (0, 0)]),\n",
    "    ],\n",
    "}\n",
    "gdf = geopandas.GeoDataFrame(d, crs=4326)\n"
   ]
  },
  {
   "cell_type": "code",
   "execution_count": 130,
   "metadata": {},
   "outputs": [
    {
     "data": {
      "text/html": [
       "<div>\n",
       "<style scoped>\n",
       "    .dataframe tbody tr th:only-of-type {\n",
       "        vertical-align: middle;\n",
       "    }\n",
       "\n",
       "    .dataframe tbody tr th {\n",
       "        vertical-align: top;\n",
       "    }\n",
       "\n",
       "    .dataframe thead th {\n",
       "        text-align: right;\n",
       "    }\n",
       "</style>\n",
       "<table border=\"1\" class=\"dataframe\">\n",
       "  <thead>\n",
       "    <tr style=\"text-align: right;\">\n",
       "      <th></th>\n",
       "      <th>col1</th>\n",
       "      <th>geometry</th>\n",
       "    </tr>\n",
       "  </thead>\n",
       "  <tbody>\n",
       "    <tr>\n",
       "      <th>0</th>\n",
       "      <td>name1</td>\n",
       "      <td>MULTIPOINT (1.00000 2.00000, 3.00000 4.00000)</td>\n",
       "    </tr>\n",
       "    <tr>\n",
       "      <th>1</th>\n",
       "      <td>name2</td>\n",
       "      <td>MULTIPOINT (2.00000 1.00000, 0.00000 0.00000)</td>\n",
       "    </tr>\n",
       "  </tbody>\n",
       "</table>\n",
       "</div>"
      ],
      "text/plain": [
       "    col1                                       geometry\n",
       "0  name1  MULTIPOINT (1.00000 2.00000, 3.00000 4.00000)\n",
       "1  name2  MULTIPOINT (2.00000 1.00000, 0.00000 0.00000)"
      ]
     },
     "execution_count": 130,
     "metadata": {},
     "output_type": "execute_result"
    }
   ],
   "source": [
    "gdf"
   ]
  },
  {
   "cell_type": "code",
   "execution_count": 137,
   "metadata": {},
   "outputs": [
    {
     "data": {
      "text/plain": [
       "0                    name2\n",
       "1    MULTIPOINT (2 1, 0 0)\n",
       "Name: 1, dtype: object"
      ]
     },
     "execution_count": 137,
     "metadata": {},
     "output_type": "execute_result"
    }
   ],
   "source": [
    "gdf.loc[1].explode(ignore_index=True)"
   ]
  },
  {
   "cell_type": "code",
   "execution_count": null,
   "metadata": {},
   "outputs": [],
   "source": [
    "gdf.loc[0]"
   ]
  },
  {
   "cell_type": "code",
   "execution_count": 3,
   "metadata": {},
   "outputs": [
    {
     "name": "stdout",
     "output_type": "stream",
     "text": [
      "[b'id;name;area[km2];long;lat\\r\\n']\n"
     ]
    },
    {
     "ename": "TypeError",
     "evalue": "cannot use a string pattern on a bytes-like object",
     "output_type": "error",
     "traceback": [
      "\u001b[1;31m---------------------------------------------------------------------------\u001b[0m",
      "\u001b[1;31mTypeError\u001b[0m                                 Traceback (most recent call last)",
      "\u001b[1;32m<ipython-input-3-a769537a70ea>\u001b[0m in \u001b[0;36m<module>\u001b[1;34m\u001b[0m\n\u001b[0;32m      1\u001b[0m \u001b[0mcreate_results_directory\u001b[0m\u001b[1;33m(\u001b[0m\u001b[0mRESULTS\u001b[0m\u001b[1;33m)\u001b[0m\u001b[1;33m\u001b[0m\u001b[1;33m\u001b[0m\u001b[0m\n\u001b[0;32m      2\u001b[0m \u001b[1;33m\u001b[0m\u001b[0m\n\u001b[1;32m----> 3\u001b[1;33m \u001b[0mpoints\u001b[0m \u001b[1;33m=\u001b[0m \u001b[0mread_outlets\u001b[0m\u001b[1;33m(\u001b[0m\u001b[0mOUTLETS\u001b[0m\u001b[1;33m)\u001b[0m\u001b[1;33m\u001b[0m\u001b[1;33m\u001b[0m\u001b[0m\n\u001b[0m\u001b[0;32m      4\u001b[0m \u001b[1;33m\u001b[0m\u001b[0m\n\u001b[0;32m      5\u001b[0m \u001b[1;32mif\u001b[0m \u001b[0mMODE\u001b[0m \u001b[1;33m==\u001b[0m \u001b[1;34m\"single\"\u001b[0m\u001b[1;33m:\u001b[0m\u001b[1;33m\u001b[0m\u001b[1;33m\u001b[0m\u001b[0m\n",
      "\u001b[1;32mc:\\Users\\gurbuz\\Desktop\\dsi_watershed_delineation\\src\\processing.py\u001b[0m in \u001b[0;36mread_outlets\u001b[1;34m(path)\u001b[0m\n\u001b[0;32m     23\u001b[0m         \u001b[0m_first_row\u001b[0m \u001b[1;33m=\u001b[0m \u001b[0mf\u001b[0m\u001b[1;33m.\u001b[0m\u001b[0mreadlines\u001b[0m\u001b[1;33m(\u001b[0m\u001b[1;36m1\u001b[0m\u001b[1;33m)\u001b[0m\u001b[1;33m\u001b[0m\u001b[1;33m\u001b[0m\u001b[0m\n\u001b[0;32m     24\u001b[0m     \u001b[0msniffer\u001b[0m \u001b[1;33m=\u001b[0m \u001b[0mcsv\u001b[0m\u001b[1;33m.\u001b[0m\u001b[0mSniffer\u001b[0m\u001b[1;33m(\u001b[0m\u001b[1;33m)\u001b[0m\u001b[1;33m\u001b[0m\u001b[1;33m\u001b[0m\u001b[0m\n\u001b[1;32m---> 25\u001b[1;33m     \u001b[0mdialect\u001b[0m \u001b[1;33m=\u001b[0m \u001b[0msniffer\u001b[0m\u001b[1;33m.\u001b[0m\u001b[0msniff\u001b[0m\u001b[1;33m(\u001b[0m\u001b[0m_first_row\u001b[0m\u001b[1;33m[\u001b[0m\u001b[1;36m0\u001b[0m\u001b[1;33m]\u001b[0m\u001b[1;33m)\u001b[0m\u001b[1;33m\u001b[0m\u001b[1;33m\u001b[0m\u001b[0m\n\u001b[0m\u001b[0;32m     26\u001b[0m \u001b[1;33m\u001b[0m\u001b[0m\n\u001b[0;32m     27\u001b[0m     \u001b[1;32mtry\u001b[0m\u001b[1;33m:\u001b[0m\u001b[1;33m\u001b[0m\u001b[1;33m\u001b[0m\u001b[0m\n",
      "\u001b[1;32mc:\\Users\\gurbuz\\.conda\\envs\\data_env\\lib\\csv.py\u001b[0m in \u001b[0;36msniff\u001b[1;34m(self, sample, delimiters)\u001b[0m\n\u001b[0;32m    179\u001b[0m \u001b[1;33m\u001b[0m\u001b[0m\n\u001b[0;32m    180\u001b[0m         \u001b[0mquotechar\u001b[0m\u001b[1;33m,\u001b[0m \u001b[0mdoublequote\u001b[0m\u001b[1;33m,\u001b[0m \u001b[0mdelimiter\u001b[0m\u001b[1;33m,\u001b[0m \u001b[0mskipinitialspace\u001b[0m \u001b[1;33m=\u001b[0m\u001b[0;31m \u001b[0m\u001b[0;31m\\\u001b[0m\u001b[1;33m\u001b[0m\u001b[1;33m\u001b[0m\u001b[0m\n\u001b[1;32m--> 181\u001b[1;33m                    \u001b[0mself\u001b[0m\u001b[1;33m.\u001b[0m\u001b[0m_guess_quote_and_delimiter\u001b[0m\u001b[1;33m(\u001b[0m\u001b[0msample\u001b[0m\u001b[1;33m,\u001b[0m \u001b[0mdelimiters\u001b[0m\u001b[1;33m)\u001b[0m\u001b[1;33m\u001b[0m\u001b[1;33m\u001b[0m\u001b[0m\n\u001b[0m\u001b[0;32m    182\u001b[0m         \u001b[1;32mif\u001b[0m \u001b[1;32mnot\u001b[0m \u001b[0mdelimiter\u001b[0m\u001b[1;33m:\u001b[0m\u001b[1;33m\u001b[0m\u001b[1;33m\u001b[0m\u001b[0m\n\u001b[0;32m    183\u001b[0m             delimiter, skipinitialspace = self._guess_delimiter(sample,\n",
      "\u001b[1;32mc:\\Users\\gurbuz\\.conda\\envs\\data_env\\lib\\csv.py\u001b[0m in \u001b[0;36m_guess_quote_and_delimiter\u001b[1;34m(self, data, delimiters)\u001b[0m\n\u001b[0;32m    220\u001b[0m                       r'(?:^|\\n)(?P<quote>[\"\\']).*?(?P=quote)(?:$|\\n)'):                            #  \".*?\" (no delim, no space)\n\u001b[0;32m    221\u001b[0m             \u001b[0mregexp\u001b[0m \u001b[1;33m=\u001b[0m \u001b[0mre\u001b[0m\u001b[1;33m.\u001b[0m\u001b[0mcompile\u001b[0m\u001b[1;33m(\u001b[0m\u001b[0mrestr\u001b[0m\u001b[1;33m,\u001b[0m \u001b[0mre\u001b[0m\u001b[1;33m.\u001b[0m\u001b[0mDOTALL\u001b[0m \u001b[1;33m|\u001b[0m \u001b[0mre\u001b[0m\u001b[1;33m.\u001b[0m\u001b[0mMULTILINE\u001b[0m\u001b[1;33m)\u001b[0m\u001b[1;33m\u001b[0m\u001b[1;33m\u001b[0m\u001b[0m\n\u001b[1;32m--> 222\u001b[1;33m             \u001b[0mmatches\u001b[0m \u001b[1;33m=\u001b[0m \u001b[0mregexp\u001b[0m\u001b[1;33m.\u001b[0m\u001b[0mfindall\u001b[0m\u001b[1;33m(\u001b[0m\u001b[0mdata\u001b[0m\u001b[1;33m)\u001b[0m\u001b[1;33m\u001b[0m\u001b[1;33m\u001b[0m\u001b[0m\n\u001b[0m\u001b[0;32m    223\u001b[0m             \u001b[1;32mif\u001b[0m \u001b[0mmatches\u001b[0m\u001b[1;33m:\u001b[0m\u001b[1;33m\u001b[0m\u001b[1;33m\u001b[0m\u001b[0m\n\u001b[0;32m    224\u001b[0m                 \u001b[1;32mbreak\u001b[0m\u001b[1;33m\u001b[0m\u001b[1;33m\u001b[0m\u001b[0m\n",
      "\u001b[1;31mTypeError\u001b[0m: cannot use a string pattern on a bytes-like object"
     ]
    }
   ],
   "source": [
    "create_results_directory(RESULTS)\n",
    "\n",
    "points = read_outlets(OUTLETS)\n",
    "\n",
    "if MODE == \"single\":\n",
    "\n",
    "    accum, pixel_size = read_flow_accumulation_tif(FLOW_ACCUMULATION)\n",
    "\n",
    "    drainage_direction, tif_profile, dr_dir_src = read_drainage_direction(DRAINAGE_DIRECTION)\n",
    "\n",
    "    river_vector = load_river_network(RIVERS)   \n",
    "    \n",
    "    points_new = process_watershed_points(points, accum, pixel_size, drainage_direction, dr_dir_src,\n",
    "                            tif_profile, river_vector, MAX_STRAHLER, RESULTS)\n",
    "    \n",
    "    points_new[\"change_rate[%]\"] = 100 * (points_new[\"CalculatedArea[km2]\"] - points_new[\"area[km2]\"]) / points_new[\"area[km2]\"]\n",
    "    \n",
    "elif MODE == \"partial\":\n",
    "\n",
    "    points_labelled = join_watersheds2points(points, WATERSHEDS)\n",
    "    unique_watershed_ids = points_labelled[\"Watershed_ID\"].unique()\n",
    "    points_new = pd.DataFrame()\n",
    "    for watershed in unique_watershed_ids:\n",
    "        print(f\"{watershed}\")\n",
    "        filtered_points_labelled  = points_labelled[points_labelled[\"Watershed_ID\"] == watershed]    \n",
    "        accum, pixel_size = read_flow_accumulation_tif(os.path.join(FLOW_ACCUMULATION, watershed + '.tif'))\n",
    "\n",
    "        drainage_direction, tif_profile, dr_dir_src = read_drainage_direction(os.path.join(DRAINAGE_DIRECTION, watershed + '.tif'))\n",
    "\n",
    "        river_vector = load_river_network(os.path.join(RIVERS, watershed + '.geojson'))   \n",
    "        \n",
    "        points_watershed = process_watershed_points(filtered_points_labelled, accum, pixel_size, drainage_direction, dr_dir_src,\n",
    "                                tif_profile, river_vector, MAX_STRAHLER, RESULTS) \n",
    "        \n",
    "        points_new = pd.concat([points_new, points_watershed], ignore_index=True)\n",
    "        \n",
    "    points_new[\"change_rate[%]\"] = 100 * (points_new[\"CalculatedArea[km2]\"] - points_new[\"area[km2]\"]) / points_new[\"area[km2]\"]\n",
    "# try:\n",
    "#     points_new.to_csv(os.path.join(RESULTS, 'report_secondRUN.csv'), encoding=\"windows-1254\")\n",
    "# except UnicodeEncodeError:\n",
    "#     points_new.to_csv(os.path.join(RESULTS, 'report_secondRUN.csv'), encoding=\"utf8\")"
   ]
  },
  {
   "cell_type": "code",
   "execution_count": 10,
   "metadata": {},
   "outputs": [],
   "source": [
    "import fiona\n"
   ]
  },
  {
   "cell_type": "code",
   "execution_count": 1,
   "metadata": {},
   "outputs": [],
   "source": [
    "from datetime import datetime"
   ]
  },
  {
   "cell_type": "code",
   "execution_count": 6,
   "metadata": {},
   "outputs": [],
   "source": [
    "    \n",
    "    # Get current date and time\n",
    "    now = datetime.now()\n",
    "\n",
    "    # Format to dd/mm/YYYY HH:SS\n",
    "    formatted_datetime = now.strftime(\"%d%m%Y_%H%M\")"
   ]
  },
  {
   "cell_type": "code",
   "execution_count": 8,
   "metadata": {},
   "outputs": [
    {
     "data": {
      "text/plain": [
       "'20092023_1554'"
      ]
     },
     "execution_count": 8,
     "metadata": {},
     "output_type": "execute_result"
    }
   ],
   "source": [
    "datetime.now().strftime(\"%d%m%Y_%H%M\")"
   ]
  },
  {
   "cell_type": "code",
   "execution_count": null,
   "metadata": {},
   "outputs": [],
   "source": []
  },
  {
   "cell_type": "markdown",
   "metadata": {},
   "source": [
    "# DEBUGGING POLYGONIZE"
   ]
  },
  {
   "cell_type": "code",
   "execution_count": null,
   "metadata": {},
   "outputs": [],
   "source": [
    "\n",
    "\n",
    "def calculate_upstream_v1(drainage_direction, pour_point_coords):\n",
    "    \"\"\"\n",
    "    Calculate the upstream area based on the given drainage direction and pour point coordinates.\n",
    "\n",
    "    Parameters:\n",
    "    - drainage_direction: numpy.ndarray\n",
    "        A 2D array representing the drainage direction. Each pixel indicates the direction in which water flows.\n",
    "    - pour_point_coords: tuple (row, column)\n",
    "        The row and column indices of the pour point, which is the starting point for calculating the upstream area.\n",
    "\n",
    "    Returns:\n",
    "    - upstream_area: numpy.ndarray\n",
    "        A boolean array indicating the pixels that belong to the upstream area.\n",
    "\n",
    "    The function uses a recursive algorithm to traverse upstream from the pour point, following the drainage direction.\n",
    "    It marks the pixels that contribute flow to the pour point as part of the upstream area.\n",
    "\n",
    "    Note:\n",
    "    - The drainage direction values should follow the D8 convention (values 1 to 8 representing the eight directions).\n",
    "    - The pour point coordinates should be within the boundaries of the drainage direction array.\n",
    "    \"\"\"\n",
    "\n",
    "    # Create an empty array with the same shape as the drainage direction\n",
    "    upstream_area = np.zeros_like(drainage_direction, dtype=bool)\n",
    "\n",
    "    # Get the row and column indices of the pour point\n",
    "    row, col = pour_point_coords\n",
    "\n",
    "    # Define the D8 offsets for the eight directions\n",
    "    offsets = [(0, 1), (-1, 1), (-1, 0), (-1, -1), (0, -1), (1, -1), (1, 0), (1, 1)]\n",
    "\n",
    "    # Recursive function to calculate upstream area\n",
    "    def traverse_upstream(r, c):\n",
    "        # Check if the current pixel is within the boundaries of the array\n",
    "        if r < 0 or r >= drainage_direction.shape[0] or c < 0 or c >= drainage_direction.shape[1]:\n",
    "            return\n",
    "\n",
    "        # Check if the current pixel is already marked as part of the upstream area\n",
    "        if upstream_area[r, c]:\n",
    "            return\n",
    "\n",
    "        # Mark the current pixel as part of the upstream area\n",
    "        upstream_area[r, c] = True\n",
    "\n",
    "        # Iterate over the eight directions\n",
    "        for direction in range(8):\n",
    "            # Get the offset for the corresponding direction\n",
    "            offset = offsets[direction]\n",
    "\n",
    "            # Move to the next pixel based on the offset\n",
    "            next_r = r + offset[0]\n",
    "            next_c = c + offset[1]\n",
    "\n",
    "            # Check if the next pixel drains into the current pixel\n",
    "            if next_r >= 0 and next_r < drainage_direction.shape[0] and next_c >= 0 and next_c < drainage_direction.shape[1]:\n",
    "                if (drainage_direction[next_r, next_c] - 1) % 8 == (7 + direction - 4) % 8:\n",
    "                    # Recursively traverse upstream from the next pixel\n",
    "                    traverse_upstream(next_r, next_c)\n",
    "\n",
    "    # Start traversing upstream from the pour point\n",
    "    traverse_upstream(row, col)\n",
    "\n",
    "    return upstream_area.astype(int)\n"
   ]
  },
  {
   "cell_type": "code",
   "execution_count": null,
   "metadata": {},
   "outputs": [],
   "source": [
    "from numba import njit\n",
    "@njit\n",
    "def calculate_upstream_v2(drainage_direction, pour_point_coords):\n",
    "    \"\"\"\n",
    "    Calculate the upstream area based on the given drainage direction and pour point coordinates.\n",
    "\n",
    "    Parameters:\n",
    "    - drainage_direction: numpy.ndarray\n",
    "        A 2D array representing the drainage direction. Each pixel indicates the direction in which water flows.\n",
    "    - pour_point_coords: tuple (row, column)\n",
    "        The row and column indices of the pour point, which is the starting point fo r calculating the upstream area.\n",
    "\n",
    "    Returns:\n",
    "    - upstream_area: numpy.ndarray\n",
    "        A binary array indicating the pixels that belong to the upstream area (1 for upstream, 0 for other pixels).\n",
    "\n",
    "    The function uses a stack-based iterative algorithm to traverse upstream from the pour point, following the\n",
    "    drainage direction. It marks the pixels that contribute flow to the pour point as part of the upstream area.\n",
    "\n",
    "    Note:\n",
    "    - The drainage direction values should follow the D8 convention (values 1 to 8 representing the eight directions).\n",
    "    - The pour point coordinates should be within the boundaries of the drainage direction array.\n",
    "    - The function utilizes the `numba` library's `njit` decorator for improved performance.\n",
    "    \"\"\"\n",
    "\n",
    "    # Create an empty array with the same shape as the drainage direction\n",
    "    upstream_area = np.zeros_like(drainage_direction, dtype=np.int8)\n",
    "\n",
    "    # Get the row and column indices of the pour point\n",
    "    row, col = pour_point_coords\n",
    "\n",
    "    # Define the D8 offsets for the eight directions\n",
    "    offsets = [(0, 1), (-1, 1), (-1, 0), (-1, -1), (0, -1), (1, -1), (1, 0), (1, 1)]\n",
    "    offsets = [(0, 1), (-1, 1), (-1, 0), (-1, -1), (0, -1), (1, -1), (1, 0), (1, 1)]\n",
    "\n",
    "    # Create a stack to store the pixel coordinates\n",
    "    stack = [(row, col)]\n",
    "\n",
    "    # Mark the pour point as part of the upstream area\n",
    "    upstream_area[row, col] = 1\n",
    "\n",
    "    # Iterate until the stack is empty\n",
    "    while stack:\n",
    "        r, c = stack.pop()\n",
    "        print(\"r, c\", r, c)\n",
    "\n",
    "        # Iterate over the eight directions\n",
    "        for direction in range(8):\n",
    "            offset = offsets[direction]\n",
    "            next_r = r + offset[0]\n",
    "            next_c = c + offset[1]\n",
    "\n",
    "            # Check if the next pixel is within the array boundaries\n",
    " \n",
    "            if 0 <= next_r < drainage_direction.shape[0] and 0 <= next_c < drainage_direction.shape[1]:\n",
    "                # if (drainage_direction[next_r, next_c] - 1) % 8 == (7 + direction - 4) % 8:\n",
    "                if (drainage_direction[next_r, next_c] - 1) % 8 == (7 + direction - 4) % 8:\n",
    "                    print(next_r, next_c)\n",
    "                    upstream_area[next_r, next_c] = 1\n",
    "                    stack.append((next_r, next_c))\n",
    "        print(\"Stack:\", len(stack))\n",
    "    return upstream_area"
   ]
  },
  {
   "cell_type": "code",
   "execution_count": null,
   "metadata": {},
   "outputs": [],
   "source": []
  },
  {
   "cell_type": "code",
   "execution_count": null,
   "metadata": {},
   "outputs": [],
   "source": [
    "create_results_directory(RESULTS)\n",
    "\n",
    "points = read_outlets(OUTLETS)\n",
    "points_labelled = join_watersheds2points(points, WATERSHEDS)\n",
    "unique_watershed_ids = points_labelled[\"Watershed_ID\"].unique()\n",
    "points = points_labelled.copy()\n",
    "\n",
    "\n",
    "for index, row in points.iterrows():\n",
    "    \n",
    "    # if row.id == \"D25A039\":\n",
    "    if row.id == \"D25A045\": \n",
    "    # if row.id == \"D25A044\": \n",
    "        print(f\"[+] Processing {row.id}.\")   \n",
    "        # Calculate new pour point\n",
    "        new_pour_point = calculate_new_pour_point(accum, pixel_size, (row.long, row.lat), 1)\n",
    "        new_pour_point_xy = dr_dir_src.index(new_pour_point[0], new_pour_point[1])\n",
    "\n",
    "        # Extract watersheds\n",
    "        upstream_area = calculate_upstream_v2(drainage_direction, new_pour_point_xy)\n",
    "        rasterized_array = rasterize_array(upstream_area, tif_profile)\n",
    "\n",
    "        # Save polygon and line as JSON\n",
    "        subbasin = raster_to_polygon(rasterized_array, save_polygon=True, \n",
    "                                        polygon_save_path=os.path.join(RESULTS, \"watershed\", str(row.id) + \"_basin\"))\n",
    "\n",
    "        # Clip rivers\n",
    "        clipped_river_network, feedback = clip_river_network(river_vector, subbasin, \n",
    "                                                            max_strahler_order=MAX_STRAHLER, \n",
    "                                                            line_save_path=os.path.join(RESULTS, \"river\", str(row.id) + \"_river\"))\n",
    "\n",
    "        # Insert watershed delineation information into the points table\n",
    "        points_copy = insert_watershed_info(points_copy, row, new_pour_point, \n",
    "                                            subbasin[\"CalculatedArea[km2]\"][0], feedback)"
   ]
  },
  {
   "cell_type": "code",
   "execution_count": null,
   "metadata": {},
   "outputs": [],
   "source": [
    "subbasin.plot()"
   ]
  },
  {
   "cell_type": "code",
   "execution_count": null,
   "metadata": {},
   "outputs": [],
   "source": [
    "points_copy"
   ]
  },
  {
   "cell_type": "code",
   "execution_count": null,
   "metadata": {},
   "outputs": [],
   "source": []
  },
  {
   "cell_type": "code",
   "execution_count": null,
   "metadata": {},
   "outputs": [],
   "source": [
    "_MODE = \"partial\"\n",
    "if MODE == \"partial\":\n",
    "    points_labelled = join_watersheds2points(points, WATERSHEDS)\n",
    "    unique_watershed_ids = points_labelled[\"Watershed_ID\"].unique()\n",
    "    for watershed in unique_watershed_ids[:1]:\n",
    "        filtered_points_labelled  = points_labelled[points_labelled[\"Watershed_ID\"] == watershed] \n",
    "    "
   ]
  },
  {
   "cell_type": "code",
   "execution_count": null,
   "metadata": {},
   "outputs": [],
   "source": [
    "watershed"
   ]
  },
  {
   "cell_type": "code",
   "execution_count": null,
   "metadata": {},
   "outputs": [],
   "source": []
  },
  {
   "cell_type": "code",
   "execution_count": null,
   "metadata": {},
   "outputs": [],
   "source": []
  },
  {
   "cell_type": "code",
   "execution_count": null,
   "metadata": {},
   "outputs": [],
   "source": [
    "for index, row in points.iterrows():\n",
    "    print(f\"[+] Proccessing {row.id}.\")\n",
    "    # Calculate new pour point\n",
    "    new_pour_point = calculate_new_pour_point(accum, pixel_size, (row.long, row.lat), PIXEL2SEARCH)\n",
    "    new_pour_point_xy = dr_dir_src.index(new_pour_point[0], new_pour_point[1])\n",
    "    # Extract watersheds\n",
    "    upstream_area = calculate_upstream_v2(drainage_direction, new_pour_point_xy)\n",
    "    rasterized_array = rasterize_array(upstream_area, tif_profile)\n",
    "    # Save polygon and line as JSON\n",
    "    subbasin = raster_to_polygon(rasterized_array, save_polygon=True, polygon_save_path=os.path.join(RESULTS,\"watershed\", str(row.id)+\"_basin\"))\n",
    "    # Clip rivers\n",
    "\n",
    "    clipped_river_network, feedback = clip_river_network(river_vector, subbasin, max_strahler_order = MAX_STRAHLER, line_save_path=os.path.join(RESULTS,\"river\", str(row.id)+\"_river\"))\n",
    "\n",
    "    # Insert watershed delienation information into the points table\n",
    "    points_copy = insert_watershed_info(points_copy, row, new_pour_point, subbasin[\"CalculatedArea[km2]\"][0], feedback)\n"
   ]
  },
  {
   "cell_type": "code",
   "execution_count": null,
   "metadata": {},
   "outputs": [],
   "source": []
  },
  {
   "cell_type": "code",
   "execution_count": null,
   "metadata": {},
   "outputs": [],
   "source": [
    "process_watershed_points(points, accum, pixel_size, drainage_direction, dr_dir_src,\n",
    "                            tif_profile, river_vector, MAX_STRAHLER, RESULTS)"
   ]
  },
  {
   "cell_type": "code",
   "execution_count": null,
   "metadata": {},
   "outputs": [],
   "source": []
  },
  {
   "cell_type": "code",
   "execution_count": null,
   "metadata": {},
   "outputs": [],
   "source": [
    "type(dr_dir_src)"
   ]
  },
  {
   "cell_type": "code",
   "execution_count": null,
   "metadata": {},
   "outputs": [],
   "source": [
    "points"
   ]
  },
  {
   "cell_type": "code",
   "execution_count": null,
   "metadata": {},
   "outputs": [],
   "source": []
  },
  {
   "cell_type": "code",
   "execution_count": null,
   "metadata": {},
   "outputs": [],
   "source": [
    "def loop_over_points():\n",
    "    for index, row in points.iterrows():\n",
    "   \n",
    "        # Calculate new pour point\n",
    "        new_pour_point = calculate_new_pour_point(accum, pixel_size, (row.long, row.lat), PIXEL2SEARCH)\n",
    "        new_pour_point_xy = dr_dir_src.index(new_pour_point[0], new_pour_point[1])\n",
    "        # Extract watersheds\n",
    "        upstream_area = calculate_upstream_v2(drainage_direction, new_pour_point_xy)\n",
    "        rasterized_array = rasterize_array(upstream_area, tif_profile)\n",
    "        # Save polygon and line as JSON\n",
    "        subbasin = raster_to_polygon(rasterized_array, save_polygon=True, polygon_save_path=os.path.join(RESULTS,\"watershed\", str(row.id)+\"_basin\"))\n",
    "        # Clip rivers\n",
    "        clipped_river_network = clip_river_network(river_vector, subbasin, max_strahler_order = MAX_STRAHLER, line_save_path=os.path.join(RESULTS,\"river\", str(row.id)+\"_river\"))\n"
   ]
  },
  {
   "cell_type": "code",
   "execution_count": null,
   "metadata": {},
   "outputs": [],
   "source": []
  },
  {
   "cell_type": "code",
   "execution_count": null,
   "metadata": {},
   "outputs": [],
   "source": [
    "\n",
    "for index, row in points.iterrows():\n",
    "   \n",
    "    # Calculate new pour point\n",
    "    new_pour_point = calculate_new_pour_point(accum, pixel_size, (row.long, row.lat), PIXEL2SEARCH)\n",
    "    new_pour_point_xy = dr_dir_src.index(new_pour_point[0], new_pour_point[1])\n",
    "    # Extract watersheds\n",
    "    upstream_area = calculate_upstream_v2(drainage_direction, new_pour_point_xy)\n",
    "    rasterized_array = rasterize_array(upstream_area, tif_profile)\n",
    "    # Save polygon and line as JSON\n",
    "    subbasin = raster_to_polygon(rasterized_array, save_polygon=True, polygon_save_path=os.path.join(RESULTS,\"watershed\", str(row.id)+\"_basin\"))\n",
    "    # Clip rivers\n",
    "    clipped_river_network = clip_river_network(river_vector, subbasin, max_strahler_order = MAX_STRAHLER, line_save_path=os.path.join(RESULTS,\"river\", str(row.id)+\"_river\"))\n",
    "      "
   ]
  },
  {
   "cell_type": "code",
   "execution_count": null,
   "metadata": {},
   "outputs": [],
   "source": [
    "def read_drainage_direction(drainage_direction_path, outlets=None, pour_point_coord=None):\n",
    "    \"\"\"\n",
    "    Reads the drainage direction data from a TIFF file.\n",
    "\n",
    "    Parameters:\n",
    "        drainage_direction_path (str): File path of the drainage direction TIFF.\n",
    "        outlets (geopandas.GeoDataFrame, optional): GeoDataFrame containing outlets with 'long' and 'lat' columns.\n",
    "            Each outlet's coordinates will be used as pour points to locate specific cells in the TIFF.\n",
    "        pour_point_coord (tuple, optional): Coordinates of the pour point in the format (x, y).\n",
    "            The pour point coordinates are used to locate the specific cell in the TIFF.\n",
    "\n",
    "    Returns:\n",
    "        tuple: A tuple containing the drainage direction data as a NumPy array,\n",
    "               the pour point coordinates in the TIFF, and the metadata profile of the TIFF.\n",
    "\n",
    "    Notes:\n",
    "        - The function uses the rasterio library to read the TIFF file.\n",
    "        - The drainage direction data is typically represented as an array where each\n",
    "          cell represents the direction of flow.\n",
    "        - If `pour_point_coord` is provided, it is used as the pour point to locate the specific cell in the TIFF.\n",
    "        - If `outlets` is provided, each outlet's coordinates are used as pour points to locate specific cells in the TIFF.\n",
    "        - The metadata profile contains information about the TIFF such as its spatial\n",
    "          reference system, resolution, and other properties.\n",
    "\n",
    "    Raises:\n",
    "        ValueError: If both `outlets` and `pour_point_coord` are provided at the same time, or if `outlets` is not a GeoDataFrame.\n",
    "    \"\"\"\n",
    "    if outlets is not None and pour_point_coord is not None:\n",
    "        raise ValueError(\"Only one of 'outlets' or 'pour_point_coord' should be provided, not both.\")\n",
    "    if outlets is not None and (outlets.empty or outlets is None):\n",
    "        raise ValueError(\"'outlets' GeoDataFrame is empty or None.\")\n",
    "    if outlets is not None and not isinstance(outlets, gpd.GeoDataFrame):\n",
    "        raise ValueError(\"'outlets' must be a GeoDataFrame.\")\n",
    "\n",
    "    with rasterio.open(drainage_direction_path) as src:\n",
    "        drainage_direction = src.read(1)\n",
    "        profile = src.profile\n",
    "        if pour_point_coord:\n",
    "            pour_point_xy = src.index(pour_point_coord[0], pour_point_coord[1])\n",
    "            return drainage_direction, pour_point_xy, profile\n",
    "        if outlets is not None:\n",
    "            for index, row in outlets.iterrows():\n",
    "                pour_point_coord = row.long, row.lat\n",
    "                pour_point_xy = src.index(pour_point_coord[0], pour_point_coord[1])\n",
    "                outlets.loc[index, 'pour_point_x'] = int(pour_point_xy[0])\n",
    "                outlets.loc[index, 'pour_point_y'] = int(pour_point_xy[1])\n",
    "            return drainage_direction, outlets, profile"
   ]
  },
  {
   "attachments": {},
   "cell_type": "markdown",
   "metadata": {},
   "source": [
    "# SET THE PARAMETERS"
   ]
  },
  {
   "cell_type": "code",
   "execution_count": null,
   "metadata": {},
   "outputs": [],
   "source": [
    "# Number of neighboring pixels to consider \n",
    "# in search of the neigboring pixel with the highest flow accumualtion\n",
    "PIXEL2SEARCH = 1"
   ]
  },
  {
   "attachments": {},
   "cell_type": "markdown",
   "metadata": {},
   "source": [
    "# CALCULATION"
   ]
  },
  {
   "cell_type": "code",
   "execution_count": null,
   "metadata": {},
   "outputs": [],
   "source": [
    "path = '../data/flow_accumulation_TR.tif'\n",
    "coord = (28.864, 40.130) \n",
    "coord = (28.963, 40.118) \n",
    "\n",
    "data, pixel_size = read_flow_accumulation_tif(path)\n",
    "new_pour_point = calculate_new_pour_point(data, pixel_size, coord, PIXEL2SEARCH)\n",
    "print(new_pour_point)"
   ]
  },
  {
   "cell_type": "code",
   "execution_count": null,
   "metadata": {},
   "outputs": [],
   "source": [
    "drainage_direction_path = \"../data/drainage_direction_TR.tif\"\n",
    "dr_dir, tif_profile, dr_dir_src = read_drainage_direction(drainage_direction_path)\n",
    "pour_point_xy  = dr_dir_src.index(new_pour_point[0, new_pour_point[1]])\n",
    "# Calculate upstream area\n",
    "upstream_area = calculate_upstream_v2(dr_dir, pour_point_xy)\n",
    "\n",
    "rasterized_array = rasterize_array(upstream_area, tif_profile, )\n",
    "subbasin = raster_to_polygon(rasterized_array, save_polygon=False, polygon_save_path=\"output/polygon\")"
   ]
  },
  {
   "cell_type": "code",
   "execution_count": null,
   "metadata": {},
   "outputs": [],
   "source": [
    "subbasin.plot()"
   ]
  },
  {
   "cell_type": "code",
   "execution_count": null,
   "metadata": {},
   "outputs": [],
   "source": [
    "watershed_id = \"TR03\""
   ]
  },
  {
   "cell_type": "code",
   "execution_count": null,
   "metadata": {},
   "outputs": [],
   "source": [
    "river_vector = load_river_network(watershed_id) "
   ]
  },
  {
   "cell_type": "code",
   "execution_count": null,
   "metadata": {},
   "outputs": [],
   "source": [
    "clipped_river_network = clip_river_network(river_vector, subbasin, 'output/river.geojson')"
   ]
  },
  {
   "attachments": {},
   "cell_type": "markdown",
   "metadata": {},
   "source": [
    "# TEST"
   ]
  },
  {
   "attachments": {},
   "cell_type": "markdown",
   "metadata": {},
   "source": [
    "## Read points"
   ]
  },
  {
   "cell_type": "code",
   "execution_count": null,
   "metadata": {},
   "outputs": [],
   "source": [
    "\n"
   ]
  },
  {
   "cell_type": "code",
   "execution_count": null,
   "metadata": {},
   "outputs": [],
   "source": []
  },
  {
   "cell_type": "code",
   "execution_count": null,
   "metadata": {},
   "outputs": [],
   "source": [
    "points = read_outlets(OUTLETS)"
   ]
  },
  {
   "cell_type": "code",
   "execution_count": null,
   "metadata": {},
   "outputs": [],
   "source": [
    "points.plot()"
   ]
  },
  {
   "cell_type": "code",
   "execution_count": null,
   "metadata": {},
   "outputs": [],
   "source": []
  },
  {
   "cell_type": "code",
   "execution_count": null,
   "metadata": {},
   "outputs": [],
   "source": [
    "points_labelled = join_watersheds2points(points, WATERSHEDS)\n",
    "unique_watershed_ids = points_labelled[\"Watershed_ID\"].unique()\n",
    "for watershed in unique_watershed_ids[:1]:\n",
    "    filtered_points_labelled  = points_labelled[points_labelled[\"Watershed_ID\"] == watershed] "
   ]
  },
  {
   "cell_type": "code",
   "execution_count": null,
   "metadata": {},
   "outputs": [],
   "source": [
    "for watershed in unique_watershed_ids[:1]:\n",
    "    filtered_points_labelled  = points_labelled[points_labelled[\"Watershed_ID\"] == watershed] "
   ]
  },
  {
   "cell_type": "code",
   "execution_count": null,
   "metadata": {},
   "outputs": [],
   "source": [
    "filtered_points_labelled"
   ]
  },
  {
   "cell_type": "code",
   "execution_count": null,
   "metadata": {},
   "outputs": [],
   "source": [
    "for index, row in filtered_points_labelled.iterrows():\n",
    "    coord = [row[\"long\"], row[\"lat\"]]\n",
    "    \n",
    "    \n",
    "    "
   ]
  },
  {
   "cell_type": "code",
   "execution_count": null,
   "metadata": {},
   "outputs": [],
   "source": [
    "points = read_outlets(OUTLETS)\n",
    "\n",
    "# if MODE == \"single\":\n",
    "    "
   ]
  },
  {
   "cell_type": "code",
   "execution_count": null,
   "metadata": {},
   "outputs": [],
   "source": []
  }
 ],
 "metadata": {
  "kernelspec": {
   "display_name": "dsi_delineator",
   "language": "python",
   "name": "python3"
  },
  "language_info": {
   "codemirror_mode": {
    "name": "ipython",
    "version": 3
   },
   "file_extension": ".py",
   "mimetype": "text/x-python",
   "name": "python",
   "nbconvert_exporter": "python",
   "pygments_lexer": "ipython3",
   "version": "3.9.2"
  },
  "orig_nbformat": 4
 },
 "nbformat": 4,
 "nbformat_minor": 2
}
